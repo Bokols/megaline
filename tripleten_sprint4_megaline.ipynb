{
 "cells": [
  {
   "cell_type": "markdown",
   "metadata": {},
   "source": [
    "# Introducción y descripción del proyecto\n",
    "\n",
    "Como analista de datos que trabaja para el operador de telecomunicaciones Megaline, me han pedido que realice un análisis inicial de los tarifas prepago en función de una muestra de clientes proporcionada por dos planes diferentes; **Surf y Ultimate**.\n",
    " \n",
    "El departamento de publicidad quiere saber cuál de los dos planes prepago genera más ingresos para ajustar el presupuesto de publicidad.\n",
    "\n",
    "## Propósito del Proyecto\n",
    "\n",
    "Voy a realizar el análisis de tarifas preliminar basado en una selección relativamente pequeña de clientes. Me han dado datos de 500 clientes de Megaline: ¿quiénes son los clientes?, ¡de dónde son?, ¿qué tarifa usan y la cantidad de llamadas que hicieron y mensajes de texto que enviaron en 2018?. Mi trabajo es analizar el comportamiento de los clientes y determinar qué tarifa prepago genera más ingresos.\n",
    " \n",
    "El análisis se dividirá en cuatro pasos principales:\n",
    "* Paso 1. Abra el archivo de datos y estudie la información general\n",
    "* Paso 2. Preprocesamiento de datos\n",
    "* Paso 3. Analiza los datos\n",
    "* Paso 4. Prueba las hipótesis\n",
    "\n",
    "## Descripción del planes prepago\n",
    "\n",
    "### Descripción del plan prepago\n",
    "#### Surf\n",
    " \n",
    "1. Costo mensual: USD 20\n",
    "2. 500 minutos de duración de llamadas al mes, 50 SMS y 15 GB de datos\n",
    "3. Una vez superado el límite del plan, se aplicarán cargos:\n",
    "    * 1 minuto: 3 centavos\n",
    "    * 1 SMS: 3 centavos\n",
    "    * 1 GB de datos: USD 10\n",
    "\n",
    "#### Ultimate\n",
    "\n",
    "1. Costo mensual: USD 70\n",
    "2. 3000 minutos de duración de llamadas al mes, 1000 SMS y 30 GB de datos\n",
    "3. Una vez superado el límite del plan, se aplicarán cargos:\n",
    "    * 1 minuto: 1 centavo\n",
    "    * 1 SMS: 1 centavo\n",
    "    * 1 GB de datos: USD 7\n",
    "\n",
    "#### Nota\n",
    "* Megalines redondean los segundos a minutos y los megabytes a gigabytes.\n",
    "* Para las llamadas, cada llamada individual se redondea: incluso si la llamada dura solo un segundo, contará como un minuto.\n",
    "* Para el tráfico web, cada sesión web no se redondea. Sin embargo, el total de un mes se redondea hacia arriba. Si un usuario gasta 1025 megabytes este mes, se le cobrarán 2 gigabytes."
   ]
  },
  {
   "cell_type": "markdown",
   "metadata": {},
   "source": [
    "# Paso 1. Carga de Datos"
   ]
  },
  {
   "cell_type": "markdown",
   "metadata": {},
   "source": [
    "## Cargar librerías"
   ]
  },
  {
   "cell_type": "code",
   "execution_count": 1,
   "metadata": {},
   "outputs": [],
   "source": [
    "# Cargar todas las librerías\n",
    "import pandas as pd\n",
    "import numpy as np\n",
    "from math import factorial\n",
    "from scipy import stats\n",
    "import matplotlib as plt\n",
    "from matplotlib import pyplot as st\n",
    "import seaborn as sns"
   ]
  },
  {
   "cell_type": "markdown",
   "metadata": {},
   "source": [
    "## Cargar los datos"
   ]
  },
  {
   "cell_type": "code",
   "execution_count": 2,
   "metadata": {},
   "outputs": [],
   "source": [
    "# Carga los archivos de datos en diferentes DataFrames\n",
    "\n",
    "df_calls = pd.read_csv(r'C:/Users/bokol/OneDrive/Desktop/Tripleten/Sprint 4/megaline_calls.csv')\n",
    "df_internet = pd.read_csv(r'C:/Users/bokol/OneDrive/Desktop/Tripleten/Sprint 4/megaline_internet.csv')\n",
    "df_messages = pd.read_csv(r'C:/Users/bokol/OneDrive/Desktop/Tripleten/Sprint 4/megaline_messages.csv')\n",
    "df_plans = pd.read_csv(r'C:/Users/bokol/OneDrive/Desktop/Tripleten/Sprint 4/megaline_plans.csv')\n",
    "df_users = pd.read_csv(r'C:/Users/bokol/OneDrive/Desktop/Tripleten/Sprint 4/megaline_users.csv')"
   ]
  },
  {
   "cell_type": "markdown",
   "metadata": {},
   "source": [
    "# Paso 2. Preprocesamiento de datos"
   ]
  },
  {
   "cell_type": "markdown",
   "metadata": {},
   "source": [
    "## Estudia la información general\n",
    "\n"
   ]
  },
  {
   "cell_type": "markdown",
   "metadata": {},
   "source": [
    "En la fase de exploración inicial del análisis, llamaré a cuatro funciones diferentes para examinar posibles problemas dentro de los datos. Las funciones a llamar son: **.shape / .info() / .describe() y .head()**\n"
   ]
  },
  {
   "cell_type": "markdown",
   "metadata": {},
   "source": [
    "### DataFrame df_calls\n",
    "***"
   ]
  },
  {
   "cell_type": "code",
   "execution_count": 3,
   "metadata": {},
   "outputs": [
    {
     "data": {
      "text/plain": [
       "(137735, 4)"
      ]
     },
     "execution_count": 3,
     "metadata": {},
     "output_type": "execute_result"
    }
   ],
   "source": [
    "df_calls.shape"
   ]
  },
  {
   "cell_type": "code",
   "execution_count": 4,
   "metadata": {},
   "outputs": [
    {
     "name": "stdout",
     "output_type": "stream",
     "text": [
      "<class 'pandas.core.frame.DataFrame'>\n",
      "RangeIndex: 137735 entries, 0 to 137734\n",
      "Data columns (total 4 columns):\n",
      " #   Column     Non-Null Count   Dtype  \n",
      "---  ------     --------------   -----  \n",
      " 0   id         137735 non-null  object \n",
      " 1   user_id    137735 non-null  int64  \n",
      " 2   call_date  137735 non-null  object \n",
      " 3   duration   137735 non-null  float64\n",
      "dtypes: float64(1), int64(1), object(2)\n",
      "memory usage: 4.2+ MB\n"
     ]
    }
   ],
   "source": [
    "df_calls.info()"
   ]
  },
  {
   "cell_type": "code",
   "execution_count": 5,
   "metadata": {},
   "outputs": [
    {
     "data": {
      "text/html": [
       "<div>\n",
       "<style scoped>\n",
       "    .dataframe tbody tr th:only-of-type {\n",
       "        vertical-align: middle;\n",
       "    }\n",
       "\n",
       "    .dataframe tbody tr th {\n",
       "        vertical-align: top;\n",
       "    }\n",
       "\n",
       "    .dataframe thead th {\n",
       "        text-align: right;\n",
       "    }\n",
       "</style>\n",
       "<table border=\"1\" class=\"dataframe\">\n",
       "  <thead>\n",
       "    <tr style=\"text-align: right;\">\n",
       "      <th></th>\n",
       "      <th>user_id</th>\n",
       "      <th>duration</th>\n",
       "    </tr>\n",
       "  </thead>\n",
       "  <tbody>\n",
       "    <tr>\n",
       "      <th>count</th>\n",
       "      <td>137735.000000</td>\n",
       "      <td>137735.000000</td>\n",
       "    </tr>\n",
       "    <tr>\n",
       "      <th>mean</th>\n",
       "      <td>1247.658046</td>\n",
       "      <td>6.745927</td>\n",
       "    </tr>\n",
       "    <tr>\n",
       "      <th>std</th>\n",
       "      <td>139.416268</td>\n",
       "      <td>5.839241</td>\n",
       "    </tr>\n",
       "    <tr>\n",
       "      <th>min</th>\n",
       "      <td>1000.000000</td>\n",
       "      <td>0.000000</td>\n",
       "    </tr>\n",
       "    <tr>\n",
       "      <th>25%</th>\n",
       "      <td>1128.000000</td>\n",
       "      <td>1.290000</td>\n",
       "    </tr>\n",
       "    <tr>\n",
       "      <th>50%</th>\n",
       "      <td>1247.000000</td>\n",
       "      <td>5.980000</td>\n",
       "    </tr>\n",
       "    <tr>\n",
       "      <th>75%</th>\n",
       "      <td>1365.000000</td>\n",
       "      <td>10.690000</td>\n",
       "    </tr>\n",
       "    <tr>\n",
       "      <th>max</th>\n",
       "      <td>1499.000000</td>\n",
       "      <td>37.600000</td>\n",
       "    </tr>\n",
       "  </tbody>\n",
       "</table>\n",
       "</div>"
      ],
      "text/plain": [
       "             user_id       duration\n",
       "count  137735.000000  137735.000000\n",
       "mean     1247.658046       6.745927\n",
       "std       139.416268       5.839241\n",
       "min      1000.000000       0.000000\n",
       "25%      1128.000000       1.290000\n",
       "50%      1247.000000       5.980000\n",
       "75%      1365.000000      10.690000\n",
       "max      1499.000000      37.600000"
      ]
     },
     "execution_count": 5,
     "metadata": {},
     "output_type": "execute_result"
    }
   ],
   "source": [
    "df_calls.describe()"
   ]
  },
  {
   "cell_type": "code",
   "execution_count": 6,
   "metadata": {},
   "outputs": [
    {
     "data": {
      "text/html": [
       "<div>\n",
       "<style scoped>\n",
       "    .dataframe tbody tr th:only-of-type {\n",
       "        vertical-align: middle;\n",
       "    }\n",
       "\n",
       "    .dataframe tbody tr th {\n",
       "        vertical-align: top;\n",
       "    }\n",
       "\n",
       "    .dataframe thead th {\n",
       "        text-align: right;\n",
       "    }\n",
       "</style>\n",
       "<table border=\"1\" class=\"dataframe\">\n",
       "  <thead>\n",
       "    <tr style=\"text-align: right;\">\n",
       "      <th></th>\n",
       "      <th>id</th>\n",
       "      <th>user_id</th>\n",
       "      <th>call_date</th>\n",
       "      <th>duration</th>\n",
       "    </tr>\n",
       "  </thead>\n",
       "  <tbody>\n",
       "    <tr>\n",
       "      <th>0</th>\n",
       "      <td>1000_93</td>\n",
       "      <td>1000</td>\n",
       "      <td>2018-12-27</td>\n",
       "      <td>8.52</td>\n",
       "    </tr>\n",
       "    <tr>\n",
       "      <th>1</th>\n",
       "      <td>1000_145</td>\n",
       "      <td>1000</td>\n",
       "      <td>2018-12-27</td>\n",
       "      <td>13.66</td>\n",
       "    </tr>\n",
       "    <tr>\n",
       "      <th>2</th>\n",
       "      <td>1000_247</td>\n",
       "      <td>1000</td>\n",
       "      <td>2018-12-27</td>\n",
       "      <td>14.48</td>\n",
       "    </tr>\n",
       "    <tr>\n",
       "      <th>3</th>\n",
       "      <td>1000_309</td>\n",
       "      <td>1000</td>\n",
       "      <td>2018-12-28</td>\n",
       "      <td>5.76</td>\n",
       "    </tr>\n",
       "    <tr>\n",
       "      <th>4</th>\n",
       "      <td>1000_380</td>\n",
       "      <td>1000</td>\n",
       "      <td>2018-12-30</td>\n",
       "      <td>4.22</td>\n",
       "    </tr>\n",
       "  </tbody>\n",
       "</table>\n",
       "</div>"
      ],
      "text/plain": [
       "         id  user_id   call_date  duration\n",
       "0   1000_93     1000  2018-12-27      8.52\n",
       "1  1000_145     1000  2018-12-27     13.66\n",
       "2  1000_247     1000  2018-12-27     14.48\n",
       "3  1000_309     1000  2018-12-28      5.76\n",
       "4  1000_380     1000  2018-12-30      4.22"
      ]
     },
     "execution_count": 6,
     "metadata": {},
     "output_type": "execute_result"
    }
   ],
   "source": [
    "df_calls.head()"
   ]
  },
  {
   "cell_type": "markdown",
   "metadata": {},
   "source": [
    "#### Observaciones\n",
    "\n",
    "***Descripción DataFrame***\n",
    "El DataFrame consta de ***137.735*** filas y ***4*** columnas.\n",
    "\n",
    "***Descripción de la columna***\n",
    " \n",
    "* id — Identificación única de llamadas\n",
    "* call_date — fecha de la llamada\n",
    "* duration — la duración de la llamada (en minutos)\n",
    "* user_id — ID del usuario que realizó la llamada\n",
    " \n",
    "***Problemas y tratamiento***\n",
    "* No falta ningún valor en este DataFrame\n",
    "* call_date Dtype es actualmente **object** pero debe convertirse en DateTime\n",
    "* El valor de la duración debe redondearse al entero más cercano\n",
    "* El recuento de llamadas y la duración deben agregarse por su ID de usuario y mes."
   ]
  },
  {
   "cell_type": "markdown",
   "metadata": {},
   "source": [
    "### DataFrame df_internet\n",
    "***"
   ]
  },
  {
   "cell_type": "code",
   "execution_count": 7,
   "metadata": {},
   "outputs": [
    {
     "data": {
      "text/plain": [
       "(104825, 4)"
      ]
     },
     "execution_count": 7,
     "metadata": {},
     "output_type": "execute_result"
    }
   ],
   "source": [
    "df_internet.shape"
   ]
  },
  {
   "cell_type": "code",
   "execution_count": 8,
   "metadata": {},
   "outputs": [
    {
     "name": "stdout",
     "output_type": "stream",
     "text": [
      "<class 'pandas.core.frame.DataFrame'>\n",
      "RangeIndex: 104825 entries, 0 to 104824\n",
      "Data columns (total 4 columns):\n",
      " #   Column        Non-Null Count   Dtype  \n",
      "---  ------        --------------   -----  \n",
      " 0   id            104825 non-null  object \n",
      " 1   user_id       104825 non-null  int64  \n",
      " 2   session_date  104825 non-null  object \n",
      " 3   mb_used       104825 non-null  float64\n",
      "dtypes: float64(1), int64(1), object(2)\n",
      "memory usage: 3.2+ MB\n"
     ]
    }
   ],
   "source": [
    "df_internet.info()"
   ]
  },
  {
   "cell_type": "code",
   "execution_count": 9,
   "metadata": {},
   "outputs": [
    {
     "data": {
      "text/html": [
       "<div>\n",
       "<style scoped>\n",
       "    .dataframe tbody tr th:only-of-type {\n",
       "        vertical-align: middle;\n",
       "    }\n",
       "\n",
       "    .dataframe tbody tr th {\n",
       "        vertical-align: top;\n",
       "    }\n",
       "\n",
       "    .dataframe thead th {\n",
       "        text-align: right;\n",
       "    }\n",
       "</style>\n",
       "<table border=\"1\" class=\"dataframe\">\n",
       "  <thead>\n",
       "    <tr style=\"text-align: right;\">\n",
       "      <th></th>\n",
       "      <th>user_id</th>\n",
       "      <th>mb_used</th>\n",
       "    </tr>\n",
       "  </thead>\n",
       "  <tbody>\n",
       "    <tr>\n",
       "      <th>count</th>\n",
       "      <td>104825.000000</td>\n",
       "      <td>104825.000000</td>\n",
       "    </tr>\n",
       "    <tr>\n",
       "      <th>mean</th>\n",
       "      <td>1242.496361</td>\n",
       "      <td>366.713701</td>\n",
       "    </tr>\n",
       "    <tr>\n",
       "      <th>std</th>\n",
       "      <td>142.053913</td>\n",
       "      <td>277.170542</td>\n",
       "    </tr>\n",
       "    <tr>\n",
       "      <th>min</th>\n",
       "      <td>1000.000000</td>\n",
       "      <td>0.000000</td>\n",
       "    </tr>\n",
       "    <tr>\n",
       "      <th>25%</th>\n",
       "      <td>1122.000000</td>\n",
       "      <td>136.080000</td>\n",
       "    </tr>\n",
       "    <tr>\n",
       "      <th>50%</th>\n",
       "      <td>1236.000000</td>\n",
       "      <td>343.980000</td>\n",
       "    </tr>\n",
       "    <tr>\n",
       "      <th>75%</th>\n",
       "      <td>1367.000000</td>\n",
       "      <td>554.610000</td>\n",
       "    </tr>\n",
       "    <tr>\n",
       "      <th>max</th>\n",
       "      <td>1499.000000</td>\n",
       "      <td>1693.470000</td>\n",
       "    </tr>\n",
       "  </tbody>\n",
       "</table>\n",
       "</div>"
      ],
      "text/plain": [
       "             user_id        mb_used\n",
       "count  104825.000000  104825.000000\n",
       "mean     1242.496361     366.713701\n",
       "std       142.053913     277.170542\n",
       "min      1000.000000       0.000000\n",
       "25%      1122.000000     136.080000\n",
       "50%      1236.000000     343.980000\n",
       "75%      1367.000000     554.610000\n",
       "max      1499.000000    1693.470000"
      ]
     },
     "execution_count": 9,
     "metadata": {},
     "output_type": "execute_result"
    }
   ],
   "source": [
    "df_internet.describe()"
   ]
  },
  {
   "cell_type": "code",
   "execution_count": 10,
   "metadata": {},
   "outputs": [
    {
     "data": {
      "text/html": [
       "<div>\n",
       "<style scoped>\n",
       "    .dataframe tbody tr th:only-of-type {\n",
       "        vertical-align: middle;\n",
       "    }\n",
       "\n",
       "    .dataframe tbody tr th {\n",
       "        vertical-align: top;\n",
       "    }\n",
       "\n",
       "    .dataframe thead th {\n",
       "        text-align: right;\n",
       "    }\n",
       "</style>\n",
       "<table border=\"1\" class=\"dataframe\">\n",
       "  <thead>\n",
       "    <tr style=\"text-align: right;\">\n",
       "      <th></th>\n",
       "      <th>id</th>\n",
       "      <th>user_id</th>\n",
       "      <th>session_date</th>\n",
       "      <th>mb_used</th>\n",
       "    </tr>\n",
       "  </thead>\n",
       "  <tbody>\n",
       "    <tr>\n",
       "      <th>0</th>\n",
       "      <td>1000_13</td>\n",
       "      <td>1000</td>\n",
       "      <td>2018-12-29</td>\n",
       "      <td>89.86</td>\n",
       "    </tr>\n",
       "    <tr>\n",
       "      <th>1</th>\n",
       "      <td>1000_204</td>\n",
       "      <td>1000</td>\n",
       "      <td>2018-12-31</td>\n",
       "      <td>0.00</td>\n",
       "    </tr>\n",
       "    <tr>\n",
       "      <th>2</th>\n",
       "      <td>1000_379</td>\n",
       "      <td>1000</td>\n",
       "      <td>2018-12-28</td>\n",
       "      <td>660.40</td>\n",
       "    </tr>\n",
       "    <tr>\n",
       "      <th>3</th>\n",
       "      <td>1000_413</td>\n",
       "      <td>1000</td>\n",
       "      <td>2018-12-26</td>\n",
       "      <td>270.99</td>\n",
       "    </tr>\n",
       "    <tr>\n",
       "      <th>4</th>\n",
       "      <td>1000_442</td>\n",
       "      <td>1000</td>\n",
       "      <td>2018-12-27</td>\n",
       "      <td>880.22</td>\n",
       "    </tr>\n",
       "  </tbody>\n",
       "</table>\n",
       "</div>"
      ],
      "text/plain": [
       "         id  user_id session_date  mb_used\n",
       "0   1000_13     1000   2018-12-29    89.86\n",
       "1  1000_204     1000   2018-12-31     0.00\n",
       "2  1000_379     1000   2018-12-28   660.40\n",
       "3  1000_413     1000   2018-12-26   270.99\n",
       "4  1000_442     1000   2018-12-27   880.22"
      ]
     },
     "execution_count": 10,
     "metadata": {},
     "output_type": "execute_result"
    }
   ],
   "source": [
    "df_internet.head()"
   ]
  },
  {
   "cell_type": "markdown",
   "metadata": {},
   "source": [
    "#### Observaciones\n",
    "\n",
    "***Descripción DataFrame***<br>\n",
    "El DataFrame consta de ***104 825*** filas y ***4*** columnas.\n",
    " \n",
    "***Descripción de la columna***\n",
    " \n",
    "* id — ID de sesión web única\n",
    "* mb_used: volumen de datos gastados durante una sesión (en megabytes)\n",
    "* session_date — fecha de la sesión web\n",
    "* user_id — ID de usuario\n",
    " \n",
    "***Problemas y tratamiento***\n",
    "* No falta ningún valor en esta tabla\n",
    "* session_date Dtype es actualmente ***object*** y debe convertirse en datetime\n",
    "* El recuento de sesiones y los datos utilizados deben agregarse por su ID de usuario y mes.\n",
    "* El valor agregado de mb_used debe convertirse a un valor de gigabytes y redondearse al entero más cercano\n"
   ]
  },
  {
   "cell_type": "markdown",
   "metadata": {},
   "source": [
    "### DataFrame df_messages\n",
    "***"
   ]
  },
  {
   "cell_type": "code",
   "execution_count": 11,
   "metadata": {},
   "outputs": [
    {
     "data": {
      "text/plain": [
       "(76051, 3)"
      ]
     },
     "execution_count": 11,
     "metadata": {},
     "output_type": "execute_result"
    }
   ],
   "source": [
    "df_messages.shape"
   ]
  },
  {
   "cell_type": "code",
   "execution_count": 12,
   "metadata": {},
   "outputs": [
    {
     "name": "stdout",
     "output_type": "stream",
     "text": [
      "<class 'pandas.core.frame.DataFrame'>\n",
      "RangeIndex: 76051 entries, 0 to 76050\n",
      "Data columns (total 3 columns):\n",
      " #   Column        Non-Null Count  Dtype \n",
      "---  ------        --------------  ----- \n",
      " 0   id            76051 non-null  object\n",
      " 1   user_id       76051 non-null  int64 \n",
      " 2   message_date  76051 non-null  object\n",
      "dtypes: int64(1), object(2)\n",
      "memory usage: 1.7+ MB\n"
     ]
    }
   ],
   "source": [
    "df_messages.info()"
   ]
  },
  {
   "cell_type": "code",
   "execution_count": 13,
   "metadata": {},
   "outputs": [
    {
     "data": {
      "text/html": [
       "<div>\n",
       "<style scoped>\n",
       "    .dataframe tbody tr th:only-of-type {\n",
       "        vertical-align: middle;\n",
       "    }\n",
       "\n",
       "    .dataframe tbody tr th {\n",
       "        vertical-align: top;\n",
       "    }\n",
       "\n",
       "    .dataframe thead th {\n",
       "        text-align: right;\n",
       "    }\n",
       "</style>\n",
       "<table border=\"1\" class=\"dataframe\">\n",
       "  <thead>\n",
       "    <tr style=\"text-align: right;\">\n",
       "      <th></th>\n",
       "      <th>user_id</th>\n",
       "    </tr>\n",
       "  </thead>\n",
       "  <tbody>\n",
       "    <tr>\n",
       "      <th>count</th>\n",
       "      <td>76051.000000</td>\n",
       "    </tr>\n",
       "    <tr>\n",
       "      <th>mean</th>\n",
       "      <td>1245.972768</td>\n",
       "    </tr>\n",
       "    <tr>\n",
       "      <th>std</th>\n",
       "      <td>139.843635</td>\n",
       "    </tr>\n",
       "    <tr>\n",
       "      <th>min</th>\n",
       "      <td>1000.000000</td>\n",
       "    </tr>\n",
       "    <tr>\n",
       "      <th>25%</th>\n",
       "      <td>1123.000000</td>\n",
       "    </tr>\n",
       "    <tr>\n",
       "      <th>50%</th>\n",
       "      <td>1251.000000</td>\n",
       "    </tr>\n",
       "    <tr>\n",
       "      <th>75%</th>\n",
       "      <td>1362.000000</td>\n",
       "    </tr>\n",
       "    <tr>\n",
       "      <th>max</th>\n",
       "      <td>1497.000000</td>\n",
       "    </tr>\n",
       "  </tbody>\n",
       "</table>\n",
       "</div>"
      ],
      "text/plain": [
       "            user_id\n",
       "count  76051.000000\n",
       "mean    1245.972768\n",
       "std      139.843635\n",
       "min     1000.000000\n",
       "25%     1123.000000\n",
       "50%     1251.000000\n",
       "75%     1362.000000\n",
       "max     1497.000000"
      ]
     },
     "execution_count": 13,
     "metadata": {},
     "output_type": "execute_result"
    }
   ],
   "source": [
    "df_messages.describe()"
   ]
  },
  {
   "cell_type": "code",
   "execution_count": 14,
   "metadata": {},
   "outputs": [
    {
     "data": {
      "text/html": [
       "<div>\n",
       "<style scoped>\n",
       "    .dataframe tbody tr th:only-of-type {\n",
       "        vertical-align: middle;\n",
       "    }\n",
       "\n",
       "    .dataframe tbody tr th {\n",
       "        vertical-align: top;\n",
       "    }\n",
       "\n",
       "    .dataframe thead th {\n",
       "        text-align: right;\n",
       "    }\n",
       "</style>\n",
       "<table border=\"1\" class=\"dataframe\">\n",
       "  <thead>\n",
       "    <tr style=\"text-align: right;\">\n",
       "      <th></th>\n",
       "      <th>id</th>\n",
       "      <th>user_id</th>\n",
       "      <th>message_date</th>\n",
       "    </tr>\n",
       "  </thead>\n",
       "  <tbody>\n",
       "    <tr>\n",
       "      <th>0</th>\n",
       "      <td>1000_125</td>\n",
       "      <td>1000</td>\n",
       "      <td>2018-12-27</td>\n",
       "    </tr>\n",
       "    <tr>\n",
       "      <th>1</th>\n",
       "      <td>1000_160</td>\n",
       "      <td>1000</td>\n",
       "      <td>2018-12-31</td>\n",
       "    </tr>\n",
       "    <tr>\n",
       "      <th>2</th>\n",
       "      <td>1000_223</td>\n",
       "      <td>1000</td>\n",
       "      <td>2018-12-31</td>\n",
       "    </tr>\n",
       "    <tr>\n",
       "      <th>3</th>\n",
       "      <td>1000_251</td>\n",
       "      <td>1000</td>\n",
       "      <td>2018-12-27</td>\n",
       "    </tr>\n",
       "    <tr>\n",
       "      <th>4</th>\n",
       "      <td>1000_255</td>\n",
       "      <td>1000</td>\n",
       "      <td>2018-12-26</td>\n",
       "    </tr>\n",
       "  </tbody>\n",
       "</table>\n",
       "</div>"
      ],
      "text/plain": [
       "         id  user_id message_date\n",
       "0  1000_125     1000   2018-12-27\n",
       "1  1000_160     1000   2018-12-31\n",
       "2  1000_223     1000   2018-12-31\n",
       "3  1000_251     1000   2018-12-27\n",
       "4  1000_255     1000   2018-12-26"
      ]
     },
     "execution_count": 14,
     "metadata": {},
     "output_type": "execute_result"
    }
   ],
   "source": [
    "df_messages.head()"
   ]
  },
  {
   "cell_type": "markdown",
   "metadata": {},
   "source": [
    "#### Observaciones\n",
    "\n",
    "***Descripción DataFrame***<br>\n",
    "El DataFrame consta de ***76.051*** filas y ***3*** columnas.\n",
    "\n",
    "***Descripción de la columna***\n",
    " \n",
    "* id — ID de sms único\n",
    "* message_date — la fecha en que se envió el SMS\n",
    "* user_id — ID del usuario que envió el SMS\n",
    "\n",
    "***Problemas y tratamiento***\n",
    "* No falta ningún valor en esta tabla\n",
    "* message_date Dtype es actualmente ***object*** y debe convertirse en datetime\n",
    "* El recuento de mensajes debe agregarse por su ID de usuario y mes."
   ]
  },
  {
   "cell_type": "markdown",
   "metadata": {},
   "source": [
    "### DataFrame df_plans\n",
    "***\n"
   ]
  },
  {
   "cell_type": "code",
   "execution_count": 15,
   "metadata": {},
   "outputs": [
    {
     "data": {
      "text/plain": [
       "(2, 8)"
      ]
     },
     "execution_count": 15,
     "metadata": {},
     "output_type": "execute_result"
    }
   ],
   "source": [
    "df_plans.shape"
   ]
  },
  {
   "cell_type": "code",
   "execution_count": 16,
   "metadata": {},
   "outputs": [
    {
     "name": "stdout",
     "output_type": "stream",
     "text": [
      "<class 'pandas.core.frame.DataFrame'>\n",
      "RangeIndex: 2 entries, 0 to 1\n",
      "Data columns (total 8 columns):\n",
      " #   Column                 Non-Null Count  Dtype  \n",
      "---  ------                 --------------  -----  \n",
      " 0   messages_included      2 non-null      int64  \n",
      " 1   mb_per_month_included  2 non-null      int64  \n",
      " 2   minutes_included       2 non-null      int64  \n",
      " 3   usd_monthly_pay        2 non-null      int64  \n",
      " 4   usd_per_gb             2 non-null      int64  \n",
      " 5   usd_per_message        2 non-null      float64\n",
      " 6   usd_per_minute         2 non-null      float64\n",
      " 7   plan_name              2 non-null      object \n",
      "dtypes: float64(2), int64(5), object(1)\n",
      "memory usage: 260.0+ bytes\n"
     ]
    }
   ],
   "source": [
    "df_plans.info()"
   ]
  },
  {
   "cell_type": "code",
   "execution_count": 17,
   "metadata": {},
   "outputs": [
    {
     "data": {
      "text/html": [
       "<div>\n",
       "<style scoped>\n",
       "    .dataframe tbody tr th:only-of-type {\n",
       "        vertical-align: middle;\n",
       "    }\n",
       "\n",
       "    .dataframe tbody tr th {\n",
       "        vertical-align: top;\n",
       "    }\n",
       "\n",
       "    .dataframe thead th {\n",
       "        text-align: right;\n",
       "    }\n",
       "</style>\n",
       "<table border=\"1\" class=\"dataframe\">\n",
       "  <thead>\n",
       "    <tr style=\"text-align: right;\">\n",
       "      <th></th>\n",
       "      <th>messages_included</th>\n",
       "      <th>mb_per_month_included</th>\n",
       "      <th>minutes_included</th>\n",
       "      <th>usd_monthly_pay</th>\n",
       "      <th>usd_per_gb</th>\n",
       "      <th>usd_per_message</th>\n",
       "      <th>usd_per_minute</th>\n",
       "    </tr>\n",
       "  </thead>\n",
       "  <tbody>\n",
       "    <tr>\n",
       "      <th>count</th>\n",
       "      <td>2.000000</td>\n",
       "      <td>2.000000</td>\n",
       "      <td>2.000000</td>\n",
       "      <td>2.000000</td>\n",
       "      <td>2.00000</td>\n",
       "      <td>2.000000</td>\n",
       "      <td>2.000000</td>\n",
       "    </tr>\n",
       "    <tr>\n",
       "      <th>mean</th>\n",
       "      <td>525.000000</td>\n",
       "      <td>23040.000000</td>\n",
       "      <td>1750.000000</td>\n",
       "      <td>45.000000</td>\n",
       "      <td>8.50000</td>\n",
       "      <td>0.020000</td>\n",
       "      <td>0.020000</td>\n",
       "    </tr>\n",
       "    <tr>\n",
       "      <th>std</th>\n",
       "      <td>671.751442</td>\n",
       "      <td>10861.160159</td>\n",
       "      <td>1767.766953</td>\n",
       "      <td>35.355339</td>\n",
       "      <td>2.12132</td>\n",
       "      <td>0.014142</td>\n",
       "      <td>0.014142</td>\n",
       "    </tr>\n",
       "    <tr>\n",
       "      <th>min</th>\n",
       "      <td>50.000000</td>\n",
       "      <td>15360.000000</td>\n",
       "      <td>500.000000</td>\n",
       "      <td>20.000000</td>\n",
       "      <td>7.00000</td>\n",
       "      <td>0.010000</td>\n",
       "      <td>0.010000</td>\n",
       "    </tr>\n",
       "    <tr>\n",
       "      <th>25%</th>\n",
       "      <td>287.500000</td>\n",
       "      <td>19200.000000</td>\n",
       "      <td>1125.000000</td>\n",
       "      <td>32.500000</td>\n",
       "      <td>7.75000</td>\n",
       "      <td>0.015000</td>\n",
       "      <td>0.015000</td>\n",
       "    </tr>\n",
       "    <tr>\n",
       "      <th>50%</th>\n",
       "      <td>525.000000</td>\n",
       "      <td>23040.000000</td>\n",
       "      <td>1750.000000</td>\n",
       "      <td>45.000000</td>\n",
       "      <td>8.50000</td>\n",
       "      <td>0.020000</td>\n",
       "      <td>0.020000</td>\n",
       "    </tr>\n",
       "    <tr>\n",
       "      <th>75%</th>\n",
       "      <td>762.500000</td>\n",
       "      <td>26880.000000</td>\n",
       "      <td>2375.000000</td>\n",
       "      <td>57.500000</td>\n",
       "      <td>9.25000</td>\n",
       "      <td>0.025000</td>\n",
       "      <td>0.025000</td>\n",
       "    </tr>\n",
       "    <tr>\n",
       "      <th>max</th>\n",
       "      <td>1000.000000</td>\n",
       "      <td>30720.000000</td>\n",
       "      <td>3000.000000</td>\n",
       "      <td>70.000000</td>\n",
       "      <td>10.00000</td>\n",
       "      <td>0.030000</td>\n",
       "      <td>0.030000</td>\n",
       "    </tr>\n",
       "  </tbody>\n",
       "</table>\n",
       "</div>"
      ],
      "text/plain": [
       "       messages_included  mb_per_month_included  minutes_included  \\\n",
       "count           2.000000               2.000000          2.000000   \n",
       "mean          525.000000           23040.000000       1750.000000   \n",
       "std           671.751442           10861.160159       1767.766953   \n",
       "min            50.000000           15360.000000        500.000000   \n",
       "25%           287.500000           19200.000000       1125.000000   \n",
       "50%           525.000000           23040.000000       1750.000000   \n",
       "75%           762.500000           26880.000000       2375.000000   \n",
       "max          1000.000000           30720.000000       3000.000000   \n",
       "\n",
       "       usd_monthly_pay  usd_per_gb  usd_per_message  usd_per_minute  \n",
       "count         2.000000     2.00000         2.000000        2.000000  \n",
       "mean         45.000000     8.50000         0.020000        0.020000  \n",
       "std          35.355339     2.12132         0.014142        0.014142  \n",
       "min          20.000000     7.00000         0.010000        0.010000  \n",
       "25%          32.500000     7.75000         0.015000        0.015000  \n",
       "50%          45.000000     8.50000         0.020000        0.020000  \n",
       "75%          57.500000     9.25000         0.025000        0.025000  \n",
       "max          70.000000    10.00000         0.030000        0.030000  "
      ]
     },
     "execution_count": 17,
     "metadata": {},
     "output_type": "execute_result"
    }
   ],
   "source": [
    "df_plans.describe()"
   ]
  },
  {
   "cell_type": "code",
   "execution_count": 18,
   "metadata": {},
   "outputs": [
    {
     "data": {
      "text/html": [
       "<div>\n",
       "<style scoped>\n",
       "    .dataframe tbody tr th:only-of-type {\n",
       "        vertical-align: middle;\n",
       "    }\n",
       "\n",
       "    .dataframe tbody tr th {\n",
       "        vertical-align: top;\n",
       "    }\n",
       "\n",
       "    .dataframe thead th {\n",
       "        text-align: right;\n",
       "    }\n",
       "</style>\n",
       "<table border=\"1\" class=\"dataframe\">\n",
       "  <thead>\n",
       "    <tr style=\"text-align: right;\">\n",
       "      <th></th>\n",
       "      <th>messages_included</th>\n",
       "      <th>mb_per_month_included</th>\n",
       "      <th>minutes_included</th>\n",
       "      <th>usd_monthly_pay</th>\n",
       "      <th>usd_per_gb</th>\n",
       "      <th>usd_per_message</th>\n",
       "      <th>usd_per_minute</th>\n",
       "      <th>plan_name</th>\n",
       "    </tr>\n",
       "  </thead>\n",
       "  <tbody>\n",
       "    <tr>\n",
       "      <th>0</th>\n",
       "      <td>50</td>\n",
       "      <td>15360</td>\n",
       "      <td>500</td>\n",
       "      <td>20</td>\n",
       "      <td>10</td>\n",
       "      <td>0.03</td>\n",
       "      <td>0.03</td>\n",
       "      <td>surf</td>\n",
       "    </tr>\n",
       "    <tr>\n",
       "      <th>1</th>\n",
       "      <td>1000</td>\n",
       "      <td>30720</td>\n",
       "      <td>3000</td>\n",
       "      <td>70</td>\n",
       "      <td>7</td>\n",
       "      <td>0.01</td>\n",
       "      <td>0.01</td>\n",
       "      <td>ultimate</td>\n",
       "    </tr>\n",
       "  </tbody>\n",
       "</table>\n",
       "</div>"
      ],
      "text/plain": [
       "   messages_included  mb_per_month_included  minutes_included  \\\n",
       "0                 50                  15360               500   \n",
       "1               1000                  30720              3000   \n",
       "\n",
       "   usd_monthly_pay  usd_per_gb  usd_per_message  usd_per_minute plan_name  \n",
       "0               20          10             0.03            0.03      surf  \n",
       "1               70           7             0.01            0.01  ultimate  "
      ]
     },
     "execution_count": 18,
     "metadata": {},
     "output_type": "execute_result"
    }
   ],
   "source": [
    "df_plans.head()"
   ]
  },
  {
   "cell_type": "markdown",
   "metadata": {},
   "source": [
    "#### Observaciones\n",
    "\n",
    "***Descripción DataFrame***\n",
    "El DataFrame consta de ***2*** filas y ***8*** columnas.\n",
    "\n",
    "***Descripción de la columna***\n",
    " \n",
    "* plan_name — nombre del plan telefónico\n",
    "* usd_monthly_fee — tarifa mensual en dólares estadounidenses\n",
    "* minutes_inclusive — pago mensual de minutos de llamadas\n",
    "* mensajes_incluidos: previsto mensual de SMS\n",
    "* mb_per_month_included — previsto de volumen de datos mensuales (en megabytes)\n",
    "* usd_per_minute: el precio por minuto si ha superado el límite de pedir de paquetes (por ejemplo, si el plan tiene una pedir de 100 minutos, se cobrará el uso a partir del minuto 101)\n",
    "* usd_per_message — precio por SMS si ha excedido el límite de cotización de paquetes\n",
    "* usd_per_gb: precio por gigabyte adicional de datos si ha excedido el límite de presupuesto de paquetes (1 GB = 1024 megabytes)\n",
    " \n",
    "***Problemas y tratamiento***\n",
    "* No hay valores faltantes en la tabla.\n",
    "* Dtypes parece ajustarse a los datos en el DataFrame\n",
    "* No veo ningún problema en general en este DataFrame"
   ]
  },
  {
   "cell_type": "markdown",
   "metadata": {},
   "source": [
    "### DataFrame df_users\n",
    "***"
   ]
  },
  {
   "cell_type": "code",
   "execution_count": 19,
   "metadata": {},
   "outputs": [
    {
     "data": {
      "text/plain": [
       "(500, 8)"
      ]
     },
     "execution_count": 19,
     "metadata": {},
     "output_type": "execute_result"
    }
   ],
   "source": [
    "df_users.shape"
   ]
  },
  {
   "cell_type": "code",
   "execution_count": 20,
   "metadata": {},
   "outputs": [
    {
     "name": "stdout",
     "output_type": "stream",
     "text": [
      "<class 'pandas.core.frame.DataFrame'>\n",
      "RangeIndex: 500 entries, 0 to 499\n",
      "Data columns (total 8 columns):\n",
      " #   Column      Non-Null Count  Dtype \n",
      "---  ------      --------------  ----- \n",
      " 0   user_id     500 non-null    int64 \n",
      " 1   first_name  500 non-null    object\n",
      " 2   last_name   500 non-null    object\n",
      " 3   age         500 non-null    int64 \n",
      " 4   city        500 non-null    object\n",
      " 5   reg_date    500 non-null    object\n",
      " 6   plan        500 non-null    object\n",
      " 7   churn_date  34 non-null     object\n",
      "dtypes: int64(2), object(6)\n",
      "memory usage: 31.4+ KB\n"
     ]
    }
   ],
   "source": [
    "df_users.info()"
   ]
  },
  {
   "cell_type": "code",
   "execution_count": 21,
   "metadata": {},
   "outputs": [
    {
     "data": {
      "text/html": [
       "<div>\n",
       "<style scoped>\n",
       "    .dataframe tbody tr th:only-of-type {\n",
       "        vertical-align: middle;\n",
       "    }\n",
       "\n",
       "    .dataframe tbody tr th {\n",
       "        vertical-align: top;\n",
       "    }\n",
       "\n",
       "    .dataframe thead th {\n",
       "        text-align: right;\n",
       "    }\n",
       "</style>\n",
       "<table border=\"1\" class=\"dataframe\">\n",
       "  <thead>\n",
       "    <tr style=\"text-align: right;\">\n",
       "      <th></th>\n",
       "      <th>user_id</th>\n",
       "      <th>age</th>\n",
       "    </tr>\n",
       "  </thead>\n",
       "  <tbody>\n",
       "    <tr>\n",
       "      <th>count</th>\n",
       "      <td>500.000000</td>\n",
       "      <td>500.000000</td>\n",
       "    </tr>\n",
       "    <tr>\n",
       "      <th>mean</th>\n",
       "      <td>1249.500000</td>\n",
       "      <td>45.486000</td>\n",
       "    </tr>\n",
       "    <tr>\n",
       "      <th>std</th>\n",
       "      <td>144.481833</td>\n",
       "      <td>16.972269</td>\n",
       "    </tr>\n",
       "    <tr>\n",
       "      <th>min</th>\n",
       "      <td>1000.000000</td>\n",
       "      <td>18.000000</td>\n",
       "    </tr>\n",
       "    <tr>\n",
       "      <th>25%</th>\n",
       "      <td>1124.750000</td>\n",
       "      <td>30.000000</td>\n",
       "    </tr>\n",
       "    <tr>\n",
       "      <th>50%</th>\n",
       "      <td>1249.500000</td>\n",
       "      <td>46.000000</td>\n",
       "    </tr>\n",
       "    <tr>\n",
       "      <th>75%</th>\n",
       "      <td>1374.250000</td>\n",
       "      <td>61.000000</td>\n",
       "    </tr>\n",
       "    <tr>\n",
       "      <th>max</th>\n",
       "      <td>1499.000000</td>\n",
       "      <td>75.000000</td>\n",
       "    </tr>\n",
       "  </tbody>\n",
       "</table>\n",
       "</div>"
      ],
      "text/plain": [
       "           user_id         age\n",
       "count   500.000000  500.000000\n",
       "mean   1249.500000   45.486000\n",
       "std     144.481833   16.972269\n",
       "min    1000.000000   18.000000\n",
       "25%    1124.750000   30.000000\n",
       "50%    1249.500000   46.000000\n",
       "75%    1374.250000   61.000000\n",
       "max    1499.000000   75.000000"
      ]
     },
     "execution_count": 21,
     "metadata": {},
     "output_type": "execute_result"
    }
   ],
   "source": [
    "df_users.describe()"
   ]
  },
  {
   "cell_type": "code",
   "execution_count": 22,
   "metadata": {},
   "outputs": [
    {
     "data": {
      "text/html": [
       "<div>\n",
       "<style scoped>\n",
       "    .dataframe tbody tr th:only-of-type {\n",
       "        vertical-align: middle;\n",
       "    }\n",
       "\n",
       "    .dataframe tbody tr th {\n",
       "        vertical-align: top;\n",
       "    }\n",
       "\n",
       "    .dataframe thead th {\n",
       "        text-align: right;\n",
       "    }\n",
       "</style>\n",
       "<table border=\"1\" class=\"dataframe\">\n",
       "  <thead>\n",
       "    <tr style=\"text-align: right;\">\n",
       "      <th></th>\n",
       "      <th>user_id</th>\n",
       "      <th>first_name</th>\n",
       "      <th>last_name</th>\n",
       "      <th>age</th>\n",
       "      <th>city</th>\n",
       "      <th>reg_date</th>\n",
       "      <th>plan</th>\n",
       "      <th>churn_date</th>\n",
       "    </tr>\n",
       "  </thead>\n",
       "  <tbody>\n",
       "    <tr>\n",
       "      <th>0</th>\n",
       "      <td>1000</td>\n",
       "      <td>Anamaria</td>\n",
       "      <td>Bauer</td>\n",
       "      <td>45</td>\n",
       "      <td>Atlanta-Sandy Springs-Roswell, GA MSA</td>\n",
       "      <td>2018-12-24</td>\n",
       "      <td>ultimate</td>\n",
       "      <td>NaN</td>\n",
       "    </tr>\n",
       "    <tr>\n",
       "      <th>1</th>\n",
       "      <td>1001</td>\n",
       "      <td>Mickey</td>\n",
       "      <td>Wilkerson</td>\n",
       "      <td>28</td>\n",
       "      <td>Seattle-Tacoma-Bellevue, WA MSA</td>\n",
       "      <td>2018-08-13</td>\n",
       "      <td>surf</td>\n",
       "      <td>NaN</td>\n",
       "    </tr>\n",
       "    <tr>\n",
       "      <th>2</th>\n",
       "      <td>1002</td>\n",
       "      <td>Carlee</td>\n",
       "      <td>Hoffman</td>\n",
       "      <td>36</td>\n",
       "      <td>Las Vegas-Henderson-Paradise, NV MSA</td>\n",
       "      <td>2018-10-21</td>\n",
       "      <td>surf</td>\n",
       "      <td>NaN</td>\n",
       "    </tr>\n",
       "    <tr>\n",
       "      <th>3</th>\n",
       "      <td>1003</td>\n",
       "      <td>Reynaldo</td>\n",
       "      <td>Jenkins</td>\n",
       "      <td>52</td>\n",
       "      <td>Tulsa, OK MSA</td>\n",
       "      <td>2018-01-28</td>\n",
       "      <td>surf</td>\n",
       "      <td>NaN</td>\n",
       "    </tr>\n",
       "    <tr>\n",
       "      <th>4</th>\n",
       "      <td>1004</td>\n",
       "      <td>Leonila</td>\n",
       "      <td>Thompson</td>\n",
       "      <td>40</td>\n",
       "      <td>Seattle-Tacoma-Bellevue, WA MSA</td>\n",
       "      <td>2018-05-23</td>\n",
       "      <td>surf</td>\n",
       "      <td>NaN</td>\n",
       "    </tr>\n",
       "  </tbody>\n",
       "</table>\n",
       "</div>"
      ],
      "text/plain": [
       "   user_id first_name  last_name  age                                   city  \\\n",
       "0     1000   Anamaria      Bauer   45  Atlanta-Sandy Springs-Roswell, GA MSA   \n",
       "1     1001     Mickey  Wilkerson   28        Seattle-Tacoma-Bellevue, WA MSA   \n",
       "2     1002     Carlee    Hoffman   36   Las Vegas-Henderson-Paradise, NV MSA   \n",
       "3     1003   Reynaldo    Jenkins   52                          Tulsa, OK MSA   \n",
       "4     1004    Leonila   Thompson   40        Seattle-Tacoma-Bellevue, WA MSA   \n",
       "\n",
       "     reg_date      plan churn_date  \n",
       "0  2018-12-24  ultimate        NaN  \n",
       "1  2018-08-13      surf        NaN  \n",
       "2  2018-10-21      surf        NaN  \n",
       "3  2018-01-28      surf        NaN  \n",
       "4  2018-05-23      surf        NaN  "
      ]
     },
     "execution_count": 22,
     "metadata": {},
     "output_type": "execute_result"
    }
   ],
   "source": [
    "df_users.head()"
   ]
  },
  {
   "cell_type": "markdown",
   "metadata": {},
   "source": [
    "#### Observaciones\n",
    "\n",
    "***Descripción DataFrame***<br>\n",
    "El DataFrame consta de ***500*** filas y ***8*** columnas.\n",
    " \n",
    "***Descripción de la columna***\n",
    " \n",
    "* user_id — ID de usuario\n",
    "* first_name — el nombre del usuario\n",
    "* last_name — el apellido del usuario\n",
    "* age— la edad del usuario (años)\n",
    "* reg_date — fecha de inicio de la suscripción (dd, mm, aa)\n",
    "* churn_date: la fecha en que el usuario dejó de usar el servicio (si falta o falta el valor, significa que el plan de servicio está en uso cuando se crean estos datos)\n",
    "* city — la ciudad donde vive el usuario\n",
    "* plan: nombre del plan de telefono\n",
    "\n",
    "***Problemas y tratamiento***\n",
    "* En la columna ***churn_date*** tenemos algunos valores faltantes. Los valores que faltan significan que el plan de servicio está en uso, así que intentaré ver si podemos reemplazar los valores por algo más.\n",
    "* Dtypes parece ajustarse a los datos en el DataFrame\n",
    "* No veo ningún problema en general en este DataFrame"
   ]
  },
  {
   "cell_type": "markdown",
   "metadata": {},
   "source": [
    "### Conclucion y Próximos Pasos\n",
    " \n",
    "Para realizar mi análisis, tengo 5 DataFrames diferentes disponibles. En la mayoría de los DataFrames hay datos que deben corregirse antes de pasar al análisis de los datos.\n",
    " \n",
    "* **df_calls** consta de **137.735 filas y 4 columnas**.\n",
    "     * En df_calls necesito corregir el **Dtype** en la columna **call_date**. Necesito redondear la duración de las llamadas al número entero más cercano y, por último, necesito agregar el número de llamadas y la duración por su ID de usuario y mes.\n",
    "\n",
    "* **df_internet** consta de **104.825 filas y 4 columnas**.\n",
    "     * En df_internet necesito corregir el **Dtype** en la columna **session_date**. Necesito agregar el recuento de sesiones y los datos utilizados con su ID de usuario y mes. Por último, necesito que **md_used** se convierta a gigabyte y se redondee al número entero más cercano.\n",
    "\n",
    "* **df_messages** consta de **76.051 filas y 3 columnas**.\n",
    "     * En df_internet necesito corregir el **Dtype** en la columna **message_date** necesito agregar el número de mensajes con su user_id y mes\n",
    " \n",
    "* **df_plans** consta de **2 filas y 8 columnas.**\n",
    "     * Este DataFrame no presenta ningún problema por ahora y se dejará como está por ahora.\n",
    "\n",
    "* **df_users** consta de **500 filas y 8 columnas.**\n",
    "      * En la columna **churn_date** tenemos valores de NaN. Necesito investigar qué cubren estos valores de NaN y, si es necesario, los reemplazaré por valores más adecuados.\n",
    "     \n",
    "En **los siguientes pasos**, revisaré cada uno de los DataFrames para solucionar los problemas encontrados anteriormente.\n"
   ]
  },
  {
   "cell_type": "markdown",
   "metadata": {},
   "source": [
    "## Corrigir y Enriquecer los DataFrames"
   ]
  },
  {
   "cell_type": "markdown",
   "metadata": {},
   "source": [
    "### DataFrame df_calls\n",
    "***"
   ]
  },
  {
   "cell_type": "code",
   "execution_count": 23,
   "metadata": {},
   "outputs": [],
   "source": [
    "# Convierta los tipos de datos call_date en datetime\n",
    "df_calls['call_date'] = pd.to_datetime(df_calls['call_date'], format ='%Y-%m-%d')"
   ]
  },
  {
   "cell_type": "code",
   "execution_count": 24,
   "metadata": {},
   "outputs": [],
   "source": [
    "# Crea una nueva columna que muestra el mes en que se realizó la llamada\n",
    "df_calls['month'] = df_calls['call_date'].dt.month\n"
   ]
  },
  {
   "cell_type": "code",
   "execution_count": 25,
   "metadata": {},
   "outputs": [],
   "source": [
    "# Redondea la duración y conviértela en entero\n",
    "df_calls['duration'] = np.ceil(df_calls['duration']).astype(int)"
   ]
  },
  {
   "cell_type": "code",
   "execution_count": 26,
   "metadata": {},
   "outputs": [],
   "source": [
    "# Recuento total de llamadas y duración total por su ID de usuario y mes\n",
    "df_calls = (df_calls.groupby(['user_id','month'])\n",
    "         .agg({'id':'count','duration':'sum'})\n",
    "         .rename(columns={'id':'calls'}))"
   ]
  },
  {
   "cell_type": "code",
   "execution_count": 27,
   "metadata": {},
   "outputs": [
    {
     "name": "stdout",
     "output_type": "stream",
     "text": [
      "<class 'pandas.core.frame.DataFrame'>\n",
      "MultiIndex: 2258 entries, (1000, 12) to (1499, 12)\n",
      "Data columns (total 2 columns):\n",
      " #   Column    Non-Null Count  Dtype\n",
      "---  ------    --------------  -----\n",
      " 0   calls     2258 non-null   int64\n",
      " 1   duration  2258 non-null   int32\n",
      "dtypes: int32(1), int64(1)\n",
      "memory usage: 37.0 KB\n",
      "None\n",
      "             calls     duration\n",
      "count  2258.000000  2258.000000\n",
      "mean     60.998671   435.937555\n",
      "std      31.770869   231.972343\n",
      "min       1.000000     0.000000\n",
      "25%      39.000000   275.000000\n",
      "50%      60.000000   429.000000\n",
      "75%      80.000000   574.750000\n",
      "max     205.000000  1510.000000\n"
     ]
    }
   ],
   "source": [
    "print(df_calls.info())\n",
    "print(df_calls.describe())"
   ]
  },
  {
   "cell_type": "code",
   "execution_count": 28,
   "metadata": {},
   "outputs": [
    {
     "data": {
      "text/html": [
       "<div>\n",
       "<style scoped>\n",
       "    .dataframe tbody tr th:only-of-type {\n",
       "        vertical-align: middle;\n",
       "    }\n",
       "\n",
       "    .dataframe tbody tr th {\n",
       "        vertical-align: top;\n",
       "    }\n",
       "\n",
       "    .dataframe thead th {\n",
       "        text-align: right;\n",
       "    }\n",
       "</style>\n",
       "<table border=\"1\" class=\"dataframe\">\n",
       "  <thead>\n",
       "    <tr style=\"text-align: right;\">\n",
       "      <th></th>\n",
       "      <th></th>\n",
       "      <th>calls</th>\n",
       "      <th>duration</th>\n",
       "    </tr>\n",
       "    <tr>\n",
       "      <th>user_id</th>\n",
       "      <th>month</th>\n",
       "      <th></th>\n",
       "      <th></th>\n",
       "    </tr>\n",
       "  </thead>\n",
       "  <tbody>\n",
       "    <tr>\n",
       "      <th>1000</th>\n",
       "      <th>12</th>\n",
       "      <td>16</td>\n",
       "      <td>124</td>\n",
       "    </tr>\n",
       "    <tr>\n",
       "      <th rowspan=\"4\" valign=\"top\">1001</th>\n",
       "      <th>8</th>\n",
       "      <td>27</td>\n",
       "      <td>182</td>\n",
       "    </tr>\n",
       "    <tr>\n",
       "      <th>9</th>\n",
       "      <td>49</td>\n",
       "      <td>315</td>\n",
       "    </tr>\n",
       "    <tr>\n",
       "      <th>10</th>\n",
       "      <td>65</td>\n",
       "      <td>393</td>\n",
       "    </tr>\n",
       "    <tr>\n",
       "      <th>11</th>\n",
       "      <td>64</td>\n",
       "      <td>426</td>\n",
       "    </tr>\n",
       "  </tbody>\n",
       "</table>\n",
       "</div>"
      ],
      "text/plain": [
       "               calls  duration\n",
       "user_id month                 \n",
       "1000    12        16       124\n",
       "1001    8         27       182\n",
       "        9         49       315\n",
       "        10        65       393\n",
       "        11        64       426"
      ]
     },
     "execution_count": 28,
     "metadata": {},
     "output_type": "execute_result"
    }
   ],
   "source": [
    "df_calls.head()"
   ]
  },
  {
   "cell_type": "markdown",
   "metadata": {},
   "source": [
    "### DataFrame df_internet\n",
    "***"
   ]
  },
  {
   "cell_type": "code",
   "execution_count": 29,
   "metadata": {},
   "outputs": [],
   "source": [
    "# Convierta los tipos de datos session_date en datetime\n",
    "df_internet['session_date'] = pd.to_datetime(df_internet['session_date'], format ='%Y-%m-%d')"
   ]
  },
  {
   "cell_type": "code",
   "execution_count": 30,
   "metadata": {},
   "outputs": [],
   "source": [
    "# Crea una nueva columna que muestra el mes en que se realizó la sesión de Internet\n",
    "df_internet['month'] = df_internet['session_date'].dt.month"
   ]
  },
  {
   "cell_type": "code",
   "execution_count": 31,
   "metadata": {},
   "outputs": [],
   "source": [
    "# Recuento total de sesiones y megabytes utilizados por su ID de usuario y mes\n",
    "df_internet = (df_internet.groupby(['user_id','month'])\n",
    "         .agg({'id':'count','mb_used':'sum'})\n",
    "         .rename(columns={'id':'session','mb_used':'mb_used'}))"
   ]
  },
  {
   "cell_type": "code",
   "execution_count": 32,
   "metadata": {},
   "outputs": [],
   "source": [
    "# Convertir megabyte usado a gigabyte usado, redondear hacia arriba y convertir a entero\n",
    "df_internet['data'] = np.ceil(df_internet['mb_used']/1024).astype(int)"
   ]
  },
  {
   "cell_type": "code",
   "execution_count": 33,
   "metadata": {},
   "outputs": [
    {
     "name": "stdout",
     "output_type": "stream",
     "text": [
      "<class 'pandas.core.frame.DataFrame'>\n",
      "MultiIndex: 2277 entries, (1000, 12) to (1499, 12)\n",
      "Data columns (total 3 columns):\n",
      " #   Column   Non-Null Count  Dtype  \n",
      "---  ------   --------------  -----  \n",
      " 0   session  2277 non-null   int64  \n",
      " 1   mb_used  2277 non-null   float64\n",
      " 2   data     2277 non-null   int32  \n",
      "dtypes: float64(1), int32(1), int64(1)\n",
      "memory usage: 55.1 KB\n",
      "None\n",
      "           session       mb_used         data\n",
      "count  2277.000000   2277.000000  2277.000000\n",
      "mean     46.036451  16882.197501    16.989021\n",
      "std      19.275885   7869.784848     7.693683\n",
      "min       1.000000     92.310000     1.000000\n",
      "25%      35.000000  12347.720000    13.000000\n",
      "50%      48.000000  16873.740000    17.000000\n",
      "75%      58.000000  21041.520000    21.000000\n",
      "max     138.000000  70931.590000    70.000000\n"
     ]
    }
   ],
   "source": [
    "print(df_internet.info())\n",
    "print(df_internet.describe())"
   ]
  },
  {
   "cell_type": "code",
   "execution_count": 34,
   "metadata": {},
   "outputs": [
    {
     "data": {
      "text/html": [
       "<div>\n",
       "<style scoped>\n",
       "    .dataframe tbody tr th:only-of-type {\n",
       "        vertical-align: middle;\n",
       "    }\n",
       "\n",
       "    .dataframe tbody tr th {\n",
       "        vertical-align: top;\n",
       "    }\n",
       "\n",
       "    .dataframe thead th {\n",
       "        text-align: right;\n",
       "    }\n",
       "</style>\n",
       "<table border=\"1\" class=\"dataframe\">\n",
       "  <thead>\n",
       "    <tr style=\"text-align: right;\">\n",
       "      <th></th>\n",
       "      <th></th>\n",
       "      <th>session</th>\n",
       "      <th>mb_used</th>\n",
       "      <th>data</th>\n",
       "    </tr>\n",
       "    <tr>\n",
       "      <th>user_id</th>\n",
       "      <th>month</th>\n",
       "      <th></th>\n",
       "      <th></th>\n",
       "      <th></th>\n",
       "    </tr>\n",
       "  </thead>\n",
       "  <tbody>\n",
       "    <tr>\n",
       "      <th>1000</th>\n",
       "      <th>12</th>\n",
       "      <td>5</td>\n",
       "      <td>1901.47</td>\n",
       "      <td>2</td>\n",
       "    </tr>\n",
       "    <tr>\n",
       "      <th rowspan=\"4\" valign=\"top\">1001</th>\n",
       "      <th>8</th>\n",
       "      <td>25</td>\n",
       "      <td>6919.15</td>\n",
       "      <td>7</td>\n",
       "    </tr>\n",
       "    <tr>\n",
       "      <th>9</th>\n",
       "      <td>53</td>\n",
       "      <td>13314.82</td>\n",
       "      <td>14</td>\n",
       "    </tr>\n",
       "    <tr>\n",
       "      <th>10</th>\n",
       "      <td>56</td>\n",
       "      <td>22330.49</td>\n",
       "      <td>22</td>\n",
       "    </tr>\n",
       "    <tr>\n",
       "      <th>11</th>\n",
       "      <td>51</td>\n",
       "      <td>18504.30</td>\n",
       "      <td>19</td>\n",
       "    </tr>\n",
       "  </tbody>\n",
       "</table>\n",
       "</div>"
      ],
      "text/plain": [
       "               session   mb_used  data\n",
       "user_id month                         \n",
       "1000    12           5   1901.47     2\n",
       "1001    8           25   6919.15     7\n",
       "        9           53  13314.82    14\n",
       "        10          56  22330.49    22\n",
       "        11          51  18504.30    19"
      ]
     },
     "execution_count": 34,
     "metadata": {},
     "output_type": "execute_result"
    }
   ],
   "source": [
    "df_internet.head()"
   ]
  },
  {
   "cell_type": "markdown",
   "metadata": {},
   "source": [
    "### DataFrame df_messages\n",
    "***\n"
   ]
  },
  {
   "cell_type": "code",
   "execution_count": 35,
   "metadata": {},
   "outputs": [],
   "source": [
    "# Convierta los tipos de datos message_date en datetime\n",
    "df_messages['message_date'] = pd.to_datetime(df_messages['message_date'], format ='%Y-%m-%d')"
   ]
  },
  {
   "cell_type": "code",
   "execution_count": 36,
   "metadata": {},
   "outputs": [],
   "source": [
    "# Crea una nueva columna que muestra el mes en que se envió el mensaje\n",
    "df_messages['month'] = df_messages['message_date'].dt.month"
   ]
  },
  {
   "cell_type": "code",
   "execution_count": 37,
   "metadata": {},
   "outputs": [],
   "source": [
    "# Conteo de mensajes agregados por su ID de usuario y mes\n",
    "df_messages = (df_messages.groupby(['user_id','month'])\n",
    "         .agg({'id':'count'})\n",
    "         .rename(columns={'id':'messages'}))     "
   ]
  },
  {
   "cell_type": "code",
   "execution_count": 38,
   "metadata": {},
   "outputs": [
    {
     "data": {
      "text/html": [
       "<div>\n",
       "<style scoped>\n",
       "    .dataframe tbody tr th:only-of-type {\n",
       "        vertical-align: middle;\n",
       "    }\n",
       "\n",
       "    .dataframe tbody tr th {\n",
       "        vertical-align: top;\n",
       "    }\n",
       "\n",
       "    .dataframe thead th {\n",
       "        text-align: right;\n",
       "    }\n",
       "</style>\n",
       "<table border=\"1\" class=\"dataframe\">\n",
       "  <thead>\n",
       "    <tr style=\"text-align: right;\">\n",
       "      <th></th>\n",
       "      <th></th>\n",
       "      <th>messages</th>\n",
       "    </tr>\n",
       "    <tr>\n",
       "      <th>user_id</th>\n",
       "      <th>month</th>\n",
       "      <th></th>\n",
       "    </tr>\n",
       "  </thead>\n",
       "  <tbody>\n",
       "    <tr>\n",
       "      <th>1000</th>\n",
       "      <th>12</th>\n",
       "      <td>11</td>\n",
       "    </tr>\n",
       "    <tr>\n",
       "      <th rowspan=\"4\" valign=\"top\">1001</th>\n",
       "      <th>8</th>\n",
       "      <td>30</td>\n",
       "    </tr>\n",
       "    <tr>\n",
       "      <th>9</th>\n",
       "      <td>44</td>\n",
       "    </tr>\n",
       "    <tr>\n",
       "      <th>10</th>\n",
       "      <td>53</td>\n",
       "    </tr>\n",
       "    <tr>\n",
       "      <th>11</th>\n",
       "      <td>36</td>\n",
       "    </tr>\n",
       "  </tbody>\n",
       "</table>\n",
       "</div>"
      ],
      "text/plain": [
       "               messages\n",
       "user_id month          \n",
       "1000    12           11\n",
       "1001    8            30\n",
       "        9            44\n",
       "        10           53\n",
       "        11           36"
      ]
     },
     "execution_count": 38,
     "metadata": {},
     "output_type": "execute_result"
    }
   ],
   "source": [
    "df_messages.head()"
   ]
  },
  {
   "cell_type": "code",
   "execution_count": 39,
   "metadata": {},
   "outputs": [
    {
     "name": "stdout",
     "output_type": "stream",
     "text": [
      "<class 'pandas.core.frame.DataFrame'>\n",
      "MultiIndex: 1806 entries, (1000, 12) to (1497, 12)\n",
      "Data columns (total 1 columns):\n",
      " #   Column    Non-Null Count  Dtype\n",
      "---  ------    --------------  -----\n",
      " 0   messages  1806 non-null   int64\n",
      "dtypes: int64(1)\n",
      "memory usage: 22.7 KB\n",
      "None\n",
      "          messages\n",
      "count  1806.000000\n",
      "mean     42.110188\n",
      "std      33.122931\n",
      "min       1.000000\n",
      "25%      17.000000\n",
      "50%      34.000000\n",
      "75%      59.000000\n",
      "max     266.000000\n"
     ]
    }
   ],
   "source": [
    "print(df_messages.info())\n",
    "print(df_messages.describe())"
   ]
  },
  {
   "cell_type": "markdown",
   "metadata": {},
   "source": [
    "### DataFrame df_users\n",
    "***"
   ]
  },
  {
   "cell_type": "code",
   "execution_count": 40,
   "metadata": {},
   "outputs": [],
   "source": [
    "# Cree una nueva columna para mostrar el estado de los usuarios extraído de la columna de la ciudad\n",
    "df_users['state'] = df_users['city'].str[-6:].str[:2]"
   ]
  },
  {
   "cell_type": "code",
   "execution_count": 41,
   "metadata": {},
   "outputs": [],
   "source": [
    "# Eliminar columna innecesaria\n",
    "df_users = df_users.drop(['first_name', 'last_name','age','city','reg_date','churn_date'], axis = 1)"
   ]
  },
  {
   "cell_type": "code",
   "execution_count": 42,
   "metadata": {},
   "outputs": [],
   "source": [
    "# Establecer user_id como índice\n",
    "df_users = df_users.set_index('user_id')"
   ]
  },
  {
   "cell_type": "code",
   "execution_count": 43,
   "metadata": {},
   "outputs": [
    {
     "data": {
      "text/html": [
       "<div>\n",
       "<style scoped>\n",
       "    .dataframe tbody tr th:only-of-type {\n",
       "        vertical-align: middle;\n",
       "    }\n",
       "\n",
       "    .dataframe tbody tr th {\n",
       "        vertical-align: top;\n",
       "    }\n",
       "\n",
       "    .dataframe thead th {\n",
       "        text-align: right;\n",
       "    }\n",
       "</style>\n",
       "<table border=\"1\" class=\"dataframe\">\n",
       "  <thead>\n",
       "    <tr style=\"text-align: right;\">\n",
       "      <th></th>\n",
       "      <th>plan</th>\n",
       "      <th>state</th>\n",
       "    </tr>\n",
       "    <tr>\n",
       "      <th>user_id</th>\n",
       "      <th></th>\n",
       "      <th></th>\n",
       "    </tr>\n",
       "  </thead>\n",
       "  <tbody>\n",
       "    <tr>\n",
       "      <th>1000</th>\n",
       "      <td>ultimate</td>\n",
       "      <td>GA</td>\n",
       "    </tr>\n",
       "    <tr>\n",
       "      <th>1001</th>\n",
       "      <td>surf</td>\n",
       "      <td>WA</td>\n",
       "    </tr>\n",
       "    <tr>\n",
       "      <th>1002</th>\n",
       "      <td>surf</td>\n",
       "      <td>NV</td>\n",
       "    </tr>\n",
       "    <tr>\n",
       "      <th>1003</th>\n",
       "      <td>surf</td>\n",
       "      <td>OK</td>\n",
       "    </tr>\n",
       "    <tr>\n",
       "      <th>1004</th>\n",
       "      <td>surf</td>\n",
       "      <td>WA</td>\n",
       "    </tr>\n",
       "  </tbody>\n",
       "</table>\n",
       "</div>"
      ],
      "text/plain": [
       "             plan state\n",
       "user_id                \n",
       "1000     ultimate    GA\n",
       "1001         surf    WA\n",
       "1002         surf    NV\n",
       "1003         surf    OK\n",
       "1004         surf    WA"
      ]
     },
     "execution_count": 43,
     "metadata": {},
     "output_type": "execute_result"
    }
   ],
   "source": [
    "df_users.head()"
   ]
  },
  {
   "cell_type": "markdown",
   "metadata": {},
   "source": [
    "## Merge Tablas\n",
    "\n",
    "Los DataFrames ahora se han transformado de manera más uniforme y están listos para unirse para formar un nuevo DataFrame para un análisis posterior."
   ]
  },
  {
   "cell_type": "code",
   "execution_count": 44,
   "metadata": {},
   "outputs": [
    {
     "data": {
      "text/html": [
       "<div>\n",
       "<style scoped>\n",
       "    .dataframe tbody tr th:only-of-type {\n",
       "        vertical-align: middle;\n",
       "    }\n",
       "\n",
       "    .dataframe tbody tr th {\n",
       "        vertical-align: top;\n",
       "    }\n",
       "\n",
       "    .dataframe thead th {\n",
       "        text-align: right;\n",
       "    }\n",
       "</style>\n",
       "<table border=\"1\" class=\"dataframe\">\n",
       "  <thead>\n",
       "    <tr style=\"text-align: right;\">\n",
       "      <th></th>\n",
       "      <th></th>\n",
       "      <th>plan</th>\n",
       "      <th>state</th>\n",
       "      <th>calls</th>\n",
       "      <th>duration</th>\n",
       "      <th>messages</th>\n",
       "      <th>session</th>\n",
       "      <th>mb_used</th>\n",
       "      <th>data</th>\n",
       "    </tr>\n",
       "    <tr>\n",
       "      <th>user_id</th>\n",
       "      <th>month</th>\n",
       "      <th></th>\n",
       "      <th></th>\n",
       "      <th></th>\n",
       "      <th></th>\n",
       "      <th></th>\n",
       "      <th></th>\n",
       "      <th></th>\n",
       "      <th></th>\n",
       "    </tr>\n",
       "  </thead>\n",
       "  <tbody>\n",
       "    <tr>\n",
       "      <th>1000</th>\n",
       "      <th>12</th>\n",
       "      <td>ultimate</td>\n",
       "      <td>GA</td>\n",
       "      <td>16.0</td>\n",
       "      <td>124.0</td>\n",
       "      <td>11.0</td>\n",
       "      <td>5.0</td>\n",
       "      <td>1901.47</td>\n",
       "      <td>2.0</td>\n",
       "    </tr>\n",
       "    <tr>\n",
       "      <th rowspan=\"4\" valign=\"top\">1001</th>\n",
       "      <th>8</th>\n",
       "      <td>surf</td>\n",
       "      <td>WA</td>\n",
       "      <td>27.0</td>\n",
       "      <td>182.0</td>\n",
       "      <td>30.0</td>\n",
       "      <td>25.0</td>\n",
       "      <td>6919.15</td>\n",
       "      <td>7.0</td>\n",
       "    </tr>\n",
       "    <tr>\n",
       "      <th>9</th>\n",
       "      <td>surf</td>\n",
       "      <td>WA</td>\n",
       "      <td>49.0</td>\n",
       "      <td>315.0</td>\n",
       "      <td>44.0</td>\n",
       "      <td>53.0</td>\n",
       "      <td>13314.82</td>\n",
       "      <td>14.0</td>\n",
       "    </tr>\n",
       "    <tr>\n",
       "      <th>10</th>\n",
       "      <td>surf</td>\n",
       "      <td>WA</td>\n",
       "      <td>65.0</td>\n",
       "      <td>393.0</td>\n",
       "      <td>53.0</td>\n",
       "      <td>56.0</td>\n",
       "      <td>22330.49</td>\n",
       "      <td>22.0</td>\n",
       "    </tr>\n",
       "    <tr>\n",
       "      <th>11</th>\n",
       "      <td>surf</td>\n",
       "      <td>WA</td>\n",
       "      <td>64.0</td>\n",
       "      <td>426.0</td>\n",
       "      <td>36.0</td>\n",
       "      <td>51.0</td>\n",
       "      <td>18504.30</td>\n",
       "      <td>19.0</td>\n",
       "    </tr>\n",
       "  </tbody>\n",
       "</table>\n",
       "</div>"
      ],
      "text/plain": [
       "                   plan state  calls  duration  messages  session   mb_used  \\\n",
       "user_id month                                                                 \n",
       "1000    12     ultimate    GA   16.0     124.0      11.0      5.0   1901.47   \n",
       "1001    8          surf    WA   27.0     182.0      30.0     25.0   6919.15   \n",
       "        9          surf    WA   49.0     315.0      44.0     53.0  13314.82   \n",
       "        10         surf    WA   65.0     393.0      53.0     56.0  22330.49   \n",
       "        11         surf    WA   64.0     426.0      36.0     51.0  18504.30   \n",
       "\n",
       "               data  \n",
       "user_id month        \n",
       "1000    12      2.0  \n",
       "1001    8       7.0  \n",
       "        9      14.0  \n",
       "        10     22.0  \n",
       "        11     19.0  "
      ]
     },
     "execution_count": 44,
     "metadata": {},
     "output_type": "execute_result"
    }
   ],
   "source": [
    "# Cree un nuevo marco de datos que fusionó todas las tablas\n",
    "\n",
    "temp_1 = pd.merge(df_users,df_calls,how='outer',left_index=True,right_index=True)\n",
    "temp_2 = pd.merge(temp_1,df_messages,how='outer',left_index=True,right_index=True)\n",
    "df = pd.merge(temp_2,df_internet,how='outer',left_index=True,right_index=True)\n",
    "\n",
    "df.head()"
   ]
  },
  {
   "cell_type": "markdown",
   "metadata": {},
   "source": [
    "### Columna Temporal\n",
    "Siguiente tabla de fusión. Para facilitar el cálculo de los ingresos mensuales de Megaline de cada usuario, se creará una columna temporal que contiene datos sobre la duración del exceso de llamadas, la cantidad de SMS y el volumen de datos."
   ]
  },
  {
   "cell_type": "code",
   "execution_count": 45,
   "metadata": {},
   "outputs": [],
   "source": [
    "def temporary_column(source_col, limit1, limit2, dataframe=df, plan_col='plan',  plan1='surf', plan2='ultimate'):\n",
    "    # Crear una lista de condiciones\n",
    "    conditions = [\n",
    "        (dataframe[plan_col] == plan1) & (dataframe[source_col] > limit1),\n",
    "        (dataframe[plan_col] == plan1) & (dataframe[source_col] <= limit1),\n",
    "        (dataframe[plan_col] == plan2) & (dataframe[source_col] > limit2),\n",
    "        (dataframe[plan_col] == plan2) & (dataframe[source_col] <= limit2),\n",
    "    ]\n",
    "    # crear una lista de los valores que queremos asignar para cada condición\n",
    "    values = [dataframe[source_col]-limit1, 0, dataframe[source_col]-limit2, 0]\n",
    "    \n",
    "    # Crear columna temporal\n",
    "    temp_column = 'exceeded_' + source_col\n",
    "    dataframe[temp_column] = np.select(conditions,values)\n",
    "    \n",
    "    return dataframe"
   ]
  },
  {
   "cell_type": "code",
   "execution_count": 46,
   "metadata": {},
   "outputs": [
    {
     "data": {
      "text/html": [
       "<div>\n",
       "<style scoped>\n",
       "    .dataframe tbody tr th:only-of-type {\n",
       "        vertical-align: middle;\n",
       "    }\n",
       "\n",
       "    .dataframe tbody tr th {\n",
       "        vertical-align: top;\n",
       "    }\n",
       "\n",
       "    .dataframe thead th {\n",
       "        text-align: right;\n",
       "    }\n",
       "</style>\n",
       "<table border=\"1\" class=\"dataframe\">\n",
       "  <thead>\n",
       "    <tr style=\"text-align: right;\">\n",
       "      <th></th>\n",
       "      <th></th>\n",
       "      <th>plan</th>\n",
       "      <th>state</th>\n",
       "      <th>calls</th>\n",
       "      <th>duration</th>\n",
       "      <th>messages</th>\n",
       "      <th>session</th>\n",
       "      <th>mb_used</th>\n",
       "      <th>data</th>\n",
       "      <th>exceeded_duration</th>\n",
       "      <th>exceeded_messages</th>\n",
       "      <th>exceeded_data</th>\n",
       "    </tr>\n",
       "    <tr>\n",
       "      <th>user_id</th>\n",
       "      <th>month</th>\n",
       "      <th></th>\n",
       "      <th></th>\n",
       "      <th></th>\n",
       "      <th></th>\n",
       "      <th></th>\n",
       "      <th></th>\n",
       "      <th></th>\n",
       "      <th></th>\n",
       "      <th></th>\n",
       "      <th></th>\n",
       "      <th></th>\n",
       "    </tr>\n",
       "  </thead>\n",
       "  <tbody>\n",
       "    <tr>\n",
       "      <th>1000</th>\n",
       "      <th>12</th>\n",
       "      <td>ultimate</td>\n",
       "      <td>GA</td>\n",
       "      <td>16.0</td>\n",
       "      <td>124.0</td>\n",
       "      <td>11.0</td>\n",
       "      <td>5.0</td>\n",
       "      <td>1901.47</td>\n",
       "      <td>2.0</td>\n",
       "      <td>0.0</td>\n",
       "      <td>0.0</td>\n",
       "      <td>0.0</td>\n",
       "    </tr>\n",
       "    <tr>\n",
       "      <th rowspan=\"5\" valign=\"top\">1001</th>\n",
       "      <th>8</th>\n",
       "      <td>surf</td>\n",
       "      <td>WA</td>\n",
       "      <td>27.0</td>\n",
       "      <td>182.0</td>\n",
       "      <td>30.0</td>\n",
       "      <td>25.0</td>\n",
       "      <td>6919.15</td>\n",
       "      <td>7.0</td>\n",
       "      <td>0.0</td>\n",
       "      <td>0.0</td>\n",
       "      <td>0.0</td>\n",
       "    </tr>\n",
       "    <tr>\n",
       "      <th>9</th>\n",
       "      <td>surf</td>\n",
       "      <td>WA</td>\n",
       "      <td>49.0</td>\n",
       "      <td>315.0</td>\n",
       "      <td>44.0</td>\n",
       "      <td>53.0</td>\n",
       "      <td>13314.82</td>\n",
       "      <td>14.0</td>\n",
       "      <td>0.0</td>\n",
       "      <td>0.0</td>\n",
       "      <td>0.0</td>\n",
       "    </tr>\n",
       "    <tr>\n",
       "      <th>10</th>\n",
       "      <td>surf</td>\n",
       "      <td>WA</td>\n",
       "      <td>65.0</td>\n",
       "      <td>393.0</td>\n",
       "      <td>53.0</td>\n",
       "      <td>56.0</td>\n",
       "      <td>22330.49</td>\n",
       "      <td>22.0</td>\n",
       "      <td>0.0</td>\n",
       "      <td>3.0</td>\n",
       "      <td>7.0</td>\n",
       "    </tr>\n",
       "    <tr>\n",
       "      <th>11</th>\n",
       "      <td>surf</td>\n",
       "      <td>WA</td>\n",
       "      <td>64.0</td>\n",
       "      <td>426.0</td>\n",
       "      <td>36.0</td>\n",
       "      <td>51.0</td>\n",
       "      <td>18504.30</td>\n",
       "      <td>19.0</td>\n",
       "      <td>0.0</td>\n",
       "      <td>0.0</td>\n",
       "      <td>4.0</td>\n",
       "    </tr>\n",
       "    <tr>\n",
       "      <th>12</th>\n",
       "      <td>surf</td>\n",
       "      <td>WA</td>\n",
       "      <td>56.0</td>\n",
       "      <td>412.0</td>\n",
       "      <td>44.0</td>\n",
       "      <td>60.0</td>\n",
       "      <td>19369.18</td>\n",
       "      <td>19.0</td>\n",
       "      <td>0.0</td>\n",
       "      <td>0.0</td>\n",
       "      <td>4.0</td>\n",
       "    </tr>\n",
       "    <tr>\n",
       "      <th rowspan=\"3\" valign=\"top\">1002</th>\n",
       "      <th>10</th>\n",
       "      <td>surf</td>\n",
       "      <td>NV</td>\n",
       "      <td>11.0</td>\n",
       "      <td>59.0</td>\n",
       "      <td>15.0</td>\n",
       "      <td>21.0</td>\n",
       "      <td>6552.01</td>\n",
       "      <td>7.0</td>\n",
       "      <td>0.0</td>\n",
       "      <td>0.0</td>\n",
       "      <td>0.0</td>\n",
       "    </tr>\n",
       "    <tr>\n",
       "      <th>11</th>\n",
       "      <td>surf</td>\n",
       "      <td>NV</td>\n",
       "      <td>55.0</td>\n",
       "      <td>386.0</td>\n",
       "      <td>32.0</td>\n",
       "      <td>52.0</td>\n",
       "      <td>19345.08</td>\n",
       "      <td>19.0</td>\n",
       "      <td>0.0</td>\n",
       "      <td>0.0</td>\n",
       "      <td>4.0</td>\n",
       "    </tr>\n",
       "    <tr>\n",
       "      <th>12</th>\n",
       "      <td>surf</td>\n",
       "      <td>NV</td>\n",
       "      <td>47.0</td>\n",
       "      <td>384.0</td>\n",
       "      <td>41.0</td>\n",
       "      <td>51.0</td>\n",
       "      <td>14396.24</td>\n",
       "      <td>15.0</td>\n",
       "      <td>0.0</td>\n",
       "      <td>0.0</td>\n",
       "      <td>0.0</td>\n",
       "    </tr>\n",
       "    <tr>\n",
       "      <th>1003</th>\n",
       "      <th>12</th>\n",
       "      <td>surf</td>\n",
       "      <td>OK</td>\n",
       "      <td>149.0</td>\n",
       "      <td>1104.0</td>\n",
       "      <td>50.0</td>\n",
       "      <td>52.0</td>\n",
       "      <td>27044.14</td>\n",
       "      <td>27.0</td>\n",
       "      <td>604.0</td>\n",
       "      <td>0.0</td>\n",
       "      <td>12.0</td>\n",
       "    </tr>\n",
       "  </tbody>\n",
       "</table>\n",
       "</div>"
      ],
      "text/plain": [
       "                   plan state  calls  duration  messages  session   mb_used  \\\n",
       "user_id month                                                                 \n",
       "1000    12     ultimate    GA   16.0     124.0      11.0      5.0   1901.47   \n",
       "1001    8          surf    WA   27.0     182.0      30.0     25.0   6919.15   \n",
       "        9          surf    WA   49.0     315.0      44.0     53.0  13314.82   \n",
       "        10         surf    WA   65.0     393.0      53.0     56.0  22330.49   \n",
       "        11         surf    WA   64.0     426.0      36.0     51.0  18504.30   \n",
       "        12         surf    WA   56.0     412.0      44.0     60.0  19369.18   \n",
       "1002    10         surf    NV   11.0      59.0      15.0     21.0   6552.01   \n",
       "        11         surf    NV   55.0     386.0      32.0     52.0  19345.08   \n",
       "        12         surf    NV   47.0     384.0      41.0     51.0  14396.24   \n",
       "1003    12         surf    OK  149.0    1104.0      50.0     52.0  27044.14   \n",
       "\n",
       "               data  exceeded_duration  exceeded_messages  exceeded_data  \n",
       "user_id month                                                             \n",
       "1000    12      2.0                0.0                0.0            0.0  \n",
       "1001    8       7.0                0.0                0.0            0.0  \n",
       "        9      14.0                0.0                0.0            0.0  \n",
       "        10     22.0                0.0                3.0            7.0  \n",
       "        11     19.0                0.0                0.0            4.0  \n",
       "        12     19.0                0.0                0.0            4.0  \n",
       "1002    10      7.0                0.0                0.0            0.0  \n",
       "        11     19.0                0.0                0.0            4.0  \n",
       "        12     15.0                0.0                0.0            0.0  \n",
       "1003    12     27.0              604.0                0.0           12.0  "
      ]
     },
     "execution_count": 46,
     "metadata": {},
     "output_type": "execute_result"
    }
   ],
   "source": [
    "# Duración de llamadas excedida\n",
    "temporary_column('duration', 500, 3000)\n",
    "# Mensajes excedidos\n",
    "temporary_column('messages', 50, 1000)\n",
    "# Gigabyte utilizado excedido\n",
    "temporary_column('data', 15, 30)\n",
    "\n",
    "df.head(10)\n"
   ]
  },
  {
   "cell_type": "markdown",
   "metadata": {},
   "source": [
    "**monthly_income**\n",
    " \n",
    "El valor de los ingresos_mensuales se calculó con base en el plan prepago proporcionado en la etapa inicial de este proyecto.\n",
    " \n",
    "* Para el plan Surf, una vez superado el límite del plan, se aplicarán los siguientes cargos:\n",
    "    * 1 minuto: 3 centavos\n",
    "    * 1 SMS: 3 centavos\n",
    "    * 1 GB de datos: USD 10\n",
    "    \n",
    "* Para el plan Ultimate, una vez superado el límite del plan, se aplicarán los siguientes cargos:\n",
    "    * 1 minuto: 1 centavo\n",
    "* 1 SMS: 1 centavo\n",
    "* 1 GB de datos: USD 7"
   ]
  },
  {
   "cell_type": "markdown",
   "metadata": {},
   "source": [
    "Ingreso mensual"
   ]
  },
  {
   "cell_type": "code",
   "execution_count": 47,
   "metadata": {},
   "outputs": [],
   "source": [
    "# crear una lista de nuestras condiciones\n",
    "conditions = [\n",
    "    df['plan'] == 'surf',   \n",
    "    df['plan'] == 'ultimate',\n",
    "    ]"
   ]
  },
  {
   "cell_type": "code",
   "execution_count": 48,
   "metadata": {},
   "outputs": [],
   "source": [
    "# crear una lista de los valores que queremos asignar para cada condición\n",
    "values = [\n",
    "    (20 + df['exceeded_duration']*0.03 + df['exceeded_messages']*0.03 + df['exceeded_data']*10),\n",
    "    (70 + df['exceeded_duration']*0.01 + df['exceeded_messages']*0.01 + df['exceeded_data']*7)\n",
    "]"
   ]
  },
  {
   "cell_type": "code",
   "execution_count": 49,
   "metadata": {},
   "outputs": [],
   "source": [
    "# cree una nueva columna y use np.select para asignarle valores usando nuestras listas como argumentos\n",
    "df['monthly_income'] = np.select(conditions, values)"
   ]
  },
  {
   "cell_type": "markdown",
   "metadata": {},
   "source": [
    "### Dataframe Final"
   ]
  },
  {
   "cell_type": "code",
   "execution_count": 50,
   "metadata": {},
   "outputs": [
    {
     "data": {
      "text/html": [
       "<div>\n",
       "<style scoped>\n",
       "    .dataframe tbody tr th:only-of-type {\n",
       "        vertical-align: middle;\n",
       "    }\n",
       "\n",
       "    .dataframe tbody tr th {\n",
       "        vertical-align: top;\n",
       "    }\n",
       "\n",
       "    .dataframe thead th {\n",
       "        text-align: right;\n",
       "    }\n",
       "</style>\n",
       "<table border=\"1\" class=\"dataframe\">\n",
       "  <thead>\n",
       "    <tr style=\"text-align: right;\">\n",
       "      <th></th>\n",
       "      <th></th>\n",
       "      <th>plan</th>\n",
       "      <th>state</th>\n",
       "      <th>calls</th>\n",
       "      <th>duration</th>\n",
       "      <th>messages</th>\n",
       "      <th>session</th>\n",
       "      <th>mb_used</th>\n",
       "      <th>data</th>\n",
       "      <th>monthly_income</th>\n",
       "    </tr>\n",
       "    <tr>\n",
       "      <th>user_id</th>\n",
       "      <th>month</th>\n",
       "      <th></th>\n",
       "      <th></th>\n",
       "      <th></th>\n",
       "      <th></th>\n",
       "      <th></th>\n",
       "      <th></th>\n",
       "      <th></th>\n",
       "      <th></th>\n",
       "      <th></th>\n",
       "    </tr>\n",
       "  </thead>\n",
       "  <tbody>\n",
       "    <tr>\n",
       "      <th>1000</th>\n",
       "      <th>12</th>\n",
       "      <td>ultimate</td>\n",
       "      <td>GA</td>\n",
       "      <td>16.0</td>\n",
       "      <td>124.0</td>\n",
       "      <td>11.0</td>\n",
       "      <td>5.0</td>\n",
       "      <td>1901.47</td>\n",
       "      <td>2.0</td>\n",
       "      <td>70.00</td>\n",
       "    </tr>\n",
       "    <tr>\n",
       "      <th rowspan=\"4\" valign=\"top\">1001</th>\n",
       "      <th>8</th>\n",
       "      <td>surf</td>\n",
       "      <td>WA</td>\n",
       "      <td>27.0</td>\n",
       "      <td>182.0</td>\n",
       "      <td>30.0</td>\n",
       "      <td>25.0</td>\n",
       "      <td>6919.15</td>\n",
       "      <td>7.0</td>\n",
       "      <td>20.00</td>\n",
       "    </tr>\n",
       "    <tr>\n",
       "      <th>9</th>\n",
       "      <td>surf</td>\n",
       "      <td>WA</td>\n",
       "      <td>49.0</td>\n",
       "      <td>315.0</td>\n",
       "      <td>44.0</td>\n",
       "      <td>53.0</td>\n",
       "      <td>13314.82</td>\n",
       "      <td>14.0</td>\n",
       "      <td>20.00</td>\n",
       "    </tr>\n",
       "    <tr>\n",
       "      <th>10</th>\n",
       "      <td>surf</td>\n",
       "      <td>WA</td>\n",
       "      <td>65.0</td>\n",
       "      <td>393.0</td>\n",
       "      <td>53.0</td>\n",
       "      <td>56.0</td>\n",
       "      <td>22330.49</td>\n",
       "      <td>22.0</td>\n",
       "      <td>90.09</td>\n",
       "    </tr>\n",
       "    <tr>\n",
       "      <th>11</th>\n",
       "      <td>surf</td>\n",
       "      <td>WA</td>\n",
       "      <td>64.0</td>\n",
       "      <td>426.0</td>\n",
       "      <td>36.0</td>\n",
       "      <td>51.0</td>\n",
       "      <td>18504.30</td>\n",
       "      <td>19.0</td>\n",
       "      <td>60.00</td>\n",
       "    </tr>\n",
       "  </tbody>\n",
       "</table>\n",
       "</div>"
      ],
      "text/plain": [
       "                   plan state  calls  duration  messages  session   mb_used  \\\n",
       "user_id month                                                                 \n",
       "1000    12     ultimate    GA   16.0     124.0      11.0      5.0   1901.47   \n",
       "1001    8          surf    WA   27.0     182.0      30.0     25.0   6919.15   \n",
       "        9          surf    WA   49.0     315.0      44.0     53.0  13314.82   \n",
       "        10         surf    WA   65.0     393.0      53.0     56.0  22330.49   \n",
       "        11         surf    WA   64.0     426.0      36.0     51.0  18504.30   \n",
       "\n",
       "               data  monthly_income  \n",
       "user_id month                        \n",
       "1000    12      2.0           70.00  \n",
       "1001    8       7.0           20.00  \n",
       "        9      14.0           20.00  \n",
       "        10     22.0           90.09  \n",
       "        11     19.0           60.00  "
      ]
     },
     "execution_count": 50,
     "metadata": {},
     "output_type": "execute_result"
    }
   ],
   "source": [
    "# Eliminar columna temporal\n",
    "df = df.drop(['exceeded_duration','exceeded_messages','exceeded_data'],axis=1)\n",
    "\n",
    "df.head()"
   ]
  },
  {
   "cell_type": "code",
   "execution_count": 51,
   "metadata": {},
   "outputs": [
    {
     "data": {
      "text/html": [
       "<div>\n",
       "<style scoped>\n",
       "    .dataframe tbody tr th:only-of-type {\n",
       "        vertical-align: middle;\n",
       "    }\n",
       "\n",
       "    .dataframe tbody tr th {\n",
       "        vertical-align: top;\n",
       "    }\n",
       "\n",
       "    .dataframe thead th {\n",
       "        text-align: right;\n",
       "    }\n",
       "</style>\n",
       "<table border=\"1\" class=\"dataframe\">\n",
       "  <thead>\n",
       "    <tr style=\"text-align: right;\">\n",
       "      <th></th>\n",
       "      <th>calls</th>\n",
       "      <th>duration</th>\n",
       "      <th>messages</th>\n",
       "      <th>session</th>\n",
       "      <th>mb_used</th>\n",
       "      <th>data</th>\n",
       "      <th>monthly_income</th>\n",
       "    </tr>\n",
       "  </thead>\n",
       "  <tbody>\n",
       "    <tr>\n",
       "      <th>count</th>\n",
       "      <td>2258.000000</td>\n",
       "      <td>2258.000000</td>\n",
       "      <td>1806.000000</td>\n",
       "      <td>2277.000000</td>\n",
       "      <td>2277.000000</td>\n",
       "      <td>2277.000000</td>\n",
       "      <td>2293.000000</td>\n",
       "    </tr>\n",
       "    <tr>\n",
       "      <th>mean</th>\n",
       "      <td>60.998671</td>\n",
       "      <td>435.937555</td>\n",
       "      <td>42.110188</td>\n",
       "      <td>46.036451</td>\n",
       "      <td>16882.197501</td>\n",
       "      <td>16.989021</td>\n",
       "      <td>62.986446</td>\n",
       "    </tr>\n",
       "    <tr>\n",
       "      <th>std</th>\n",
       "      <td>31.770869</td>\n",
       "      <td>231.972343</td>\n",
       "      <td>33.122931</td>\n",
       "      <td>19.275885</td>\n",
       "      <td>7869.784848</td>\n",
       "      <td>7.693683</td>\n",
       "      <td>45.426181</td>\n",
       "    </tr>\n",
       "    <tr>\n",
       "      <th>min</th>\n",
       "      <td>1.000000</td>\n",
       "      <td>0.000000</td>\n",
       "      <td>1.000000</td>\n",
       "      <td>1.000000</td>\n",
       "      <td>92.310000</td>\n",
       "      <td>1.000000</td>\n",
       "      <td>0.000000</td>\n",
       "    </tr>\n",
       "    <tr>\n",
       "      <th>25%</th>\n",
       "      <td>39.000000</td>\n",
       "      <td>275.000000</td>\n",
       "      <td>17.000000</td>\n",
       "      <td>35.000000</td>\n",
       "      <td>12347.720000</td>\n",
       "      <td>13.000000</td>\n",
       "      <td>22.580000</td>\n",
       "    </tr>\n",
       "    <tr>\n",
       "      <th>50%</th>\n",
       "      <td>60.000000</td>\n",
       "      <td>429.000000</td>\n",
       "      <td>34.000000</td>\n",
       "      <td>48.000000</td>\n",
       "      <td>16873.740000</td>\n",
       "      <td>17.000000</td>\n",
       "      <td>70.000000</td>\n",
       "    </tr>\n",
       "    <tr>\n",
       "      <th>75%</th>\n",
       "      <td>80.000000</td>\n",
       "      <td>574.750000</td>\n",
       "      <td>59.000000</td>\n",
       "      <td>58.000000</td>\n",
       "      <td>21041.520000</td>\n",
       "      <td>21.000000</td>\n",
       "      <td>70.000000</td>\n",
       "    </tr>\n",
       "    <tr>\n",
       "      <th>max</th>\n",
       "      <td>205.000000</td>\n",
       "      <td>1510.000000</td>\n",
       "      <td>266.000000</td>\n",
       "      <td>138.000000</td>\n",
       "      <td>70931.590000</td>\n",
       "      <td>70.000000</td>\n",
       "      <td>590.370000</td>\n",
       "    </tr>\n",
       "  </tbody>\n",
       "</table>\n",
       "</div>"
      ],
      "text/plain": [
       "             calls     duration     messages      session       mb_used  \\\n",
       "count  2258.000000  2258.000000  1806.000000  2277.000000   2277.000000   \n",
       "mean     60.998671   435.937555    42.110188    46.036451  16882.197501   \n",
       "std      31.770869   231.972343    33.122931    19.275885   7869.784848   \n",
       "min       1.000000     0.000000     1.000000     1.000000     92.310000   \n",
       "25%      39.000000   275.000000    17.000000    35.000000  12347.720000   \n",
       "50%      60.000000   429.000000    34.000000    48.000000  16873.740000   \n",
       "75%      80.000000   574.750000    59.000000    58.000000  21041.520000   \n",
       "max     205.000000  1510.000000   266.000000   138.000000  70931.590000   \n",
       "\n",
       "              data  monthly_income  \n",
       "count  2277.000000     2293.000000  \n",
       "mean     16.989021       62.986446  \n",
       "std       7.693683       45.426181  \n",
       "min       1.000000        0.000000  \n",
       "25%      13.000000       22.580000  \n",
       "50%      17.000000       70.000000  \n",
       "75%      21.000000       70.000000  \n",
       "max      70.000000      590.370000  "
      ]
     },
     "execution_count": 51,
     "metadata": {},
     "output_type": "execute_result"
    }
   ],
   "source": [
    "df.describe()"
   ]
  },
  {
   "cell_type": "code",
   "execution_count": 52,
   "metadata": {},
   "outputs": [
    {
     "name": "stdout",
     "output_type": "stream",
     "text": [
      "<class 'pandas.core.frame.DataFrame'>\n",
      "MultiIndex: 2293 entries, (1000, 12) to (1499, 12)\n",
      "Data columns (total 9 columns):\n",
      " #   Column          Non-Null Count  Dtype  \n",
      "---  ------          --------------  -----  \n",
      " 0   plan            2258 non-null   object \n",
      " 1   state           2258 non-null   object \n",
      " 2   calls           2258 non-null   float64\n",
      " 3   duration        2258 non-null   float64\n",
      " 4   messages        1806 non-null   float64\n",
      " 5   session         2277 non-null   float64\n",
      " 6   mb_used         2277 non-null   float64\n",
      " 7   data            2277 non-null   float64\n",
      " 8   monthly_income  2293 non-null   float64\n",
      "dtypes: float64(7), object(2)\n",
      "memory usage: 188.2+ KB\n"
     ]
    }
   ],
   "source": [
    "df.info()"
   ]
  },
  {
   "cell_type": "code",
   "execution_count": 53,
   "metadata": {},
   "outputs": [
    {
     "data": {
      "text/plain": [
       "(2293, 9)"
      ]
     },
     "execution_count": 53,
     "metadata": {},
     "output_type": "execute_result"
    }
   ],
   "source": [
    "df.shape"
   ]
  },
  {
   "cell_type": "markdown",
   "metadata": {},
   "source": [
    "**Descripción de la columna**\n",
    "* user_id — ID de usuario\n",
    "* month — mes de suscripción\n",
    "* plan — nombre del plan de teléfono\n",
    "* state — el estado donde vive el usuario\n",
    "* calls — número de llamadas realizadas por el usuario\n",
    "* duration — duración total de las llamadas realizadas por el usuario\n",
    "* messages — número de mensajes enviados por el usuario\n",
    "* session — número de sesión web realizada por el usuario\n",
    "* data: gigabyte total utilizado por el usuario\n",
    "* month_income — facturas totales recibidas por el usuario cada mes"
   ]
  },
  {
   "cell_type": "markdown",
   "metadata": {},
   "source": [
    "# Paso 3. Analiza los datos\n",
    "\n",
    "* Describe el comportamiento de los clientes. \n",
    "* Encuentra los minutos, SMS y volumen de datos que requieren los usuarios de cada tarifa por mes. \n",
    "* Calcula la media, la varianza y la desviación estándar. \n",
    "* Traza histogramas. \n",
    "* Describe las distribuciones.\n",
    "\n",
    "## Comportamiento del consumidor sobre la duración de la llamada"
   ]
  },
  {
   "cell_type": "code",
   "execution_count": 54,
   "metadata": {},
   "outputs": [
    {
     "name": "stdout",
     "output_type": "stream",
     "text": [
      "La duración media de las llamadas realizadas por el suscriptor de Surf son 436.52 minutos\n",
      "con una varianza de 52537.04\n",
      "y desviación estándar de 229.21 minutos\n",
      "\n",
      "Mientras que para el suscriptor Ultimate, el promedio es 434.68 minutos\n",
      "con una varianza de 56494.29\n",
      "y desviación estándar de 237.69 minutos\n"
     ]
    }
   ],
   "source": [
    "surf_calls = df[df['plan']=='surf']['duration']\n",
    "ultimate_calls = df[df['plan']=='ultimate']['duration']\n",
    "\n",
    "print('La duración media de las llamadas realizadas por el suscriptor de Surf son', np.mean(surf_calls).round(2), 'minutos')\n",
    "print('con una varianza de', np.var(surf_calls).round(2))\n",
    "print('y desviación estándar de', np.std(surf_calls).round(2), 'minutos')\n",
    "print()\n",
    "print('Mientras que para el suscriptor Ultimate, el promedio es', np.mean(ultimate_calls).round(2), 'minutos')\n",
    "print('con una varianza de', np.var(ultimate_calls).round(2))\n",
    "print('y desviación estándar de', np.std(ultimate_calls).round(2), 'minutos')"
   ]
  },
  {
   "cell_type": "code",
   "execution_count": 55,
   "metadata": {},
   "outputs": [
    {
     "data": {
      "image/png": "[encoded data removed]",
      "text/plain": [
       "<Figure size 640x480 with 1 Axes>"
      ]
     },
     "metadata": {},
     "output_type": "display_data"
    }
   ],
   "source": [
    "sns.set_style(\"whitegrid\")\n",
    "sns.set_palette(['#0072A8', '#6C9900'])\n",
    "\n",
    "a= sns.histplot(data=df, x=\"duration\", hue=\"plan\")\n",
    "_ = a.set_title('Histograma de la duración de la llamada del usuario Surf vs Ultimate')\n",
    "_ = a.set(xlabel='Duración de la llamada (minutos)', ylabel='Conteo de usuarias')"
   ]
  },
  {
   "cell_type": "markdown",
   "metadata": {},
   "source": [
    "Tanto Ultimate como Surf alcanzaron un máximo de unos 500 minutos, con una distribución sesgada hacia la izquierda. El límite de duración de la llamada es superado por un gran número de usuarios de Surf, pero no por ninguno de los usuarios de Ultimate."
   ]
  },
  {
   "cell_type": "code",
   "execution_count": 56,
   "metadata": {},
   "outputs": [
    {
     "data": {
      "image/png": "[encoded data removed]",
      "text/plain": [
       "<Figure size 640x480 with 1 Axes>"
      ]
     },
     "metadata": {},
     "output_type": "display_data"
    }
   ],
   "source": [
    "b= sns.barplot(data=df, x=df.index.get_level_values(1), y=\"duration\", hue=\"plan\", alpha=0.8)\n",
    "_ = b.set_title('Duración promedio de la llamada de Surf vs Ultimate a lo largo del tiempo')\n",
    "_ = b.set(xlabel='Mes',ylabel='Duración media de la llamada (minutos)')"
   ]
  },
  {
   "cell_type": "markdown",
   "metadata": {},
   "source": [
    "## Comportamiento del consumidor en los mensajes enviados"
   ]
  },
  {
   "cell_type": "code",
   "execution_count": 67,
   "metadata": {},
   "outputs": [
    {
     "name": "stdout",
     "output_type": "stream",
     "text": [
      "La cantidad promedio de mensajes enviados por el suscriptor de Surf son 39.98\n",
      "con una varianza de 1100.62\n",
      "y desviación estándar de 33.18\n",
      "\n",
      "Mientras que para el suscriptor Ultimate, el promedio es 46.46\n",
      "con una varianza de 1082.52\n",
      "y desviación estándar de 32.9\n"
     ]
    }
   ],
   "source": [
    "surf_messages = df[df['plan']=='surf']['messages']\n",
    "ultimate_messages = df[df['plan']=='ultimate']['messages']\n",
    "\n",
    "print('La cantidad promedio de mensajes enviados por el suscriptor de Surf son', np.mean(surf_messages).round(2))\n",
    "print('con una varianza de', np.var(surf_messages).round(2))\n",
    "print('y desviación estándar de', np.std(surf_messages).round(2))\n",
    "print()\n",
    "print('Mientras que para el suscriptor Ultimate, el promedio es', np.mean(ultimate_messages).round(2))\n",
    "print('con una varianza de', np.var(ultimate_messages).round(2))\n",
    "print('y desviación estándar de', np.std(ultimate_messages).round(2))"
   ]
  },
  {
   "cell_type": "code",
   "execution_count": 68,
   "metadata": {},
   "outputs": [
    {
     "data": {
      "image/png": "[encoded data removed]",
      "text/plain": [
       "<Figure size 640x480 with 1 Axes>"
      ]
     },
     "metadata": {},
     "output_type": "display_data"
    }
   ],
   "source": [
    "c= sns.histplot(data=df, x=\"messages\", hue=\"plan\")\n",
    "_ = c.set_title('Histograma de mensajes de usuario Surf vs Ultimate')\n",
    "_ = c.set(xlabel='Cuenta de mensajes', ylabel='Conteo de usuarios')"
   ]
  },
  {
   "cell_type": "markdown",
   "metadata": {},
   "source": [
    "Como se señaló anteriormente, algunos usuarios de Surf han excedido el límite de mensajes, pero ningún usuario de Ultimate lo ha hecho. La distribución estaba sesgada hacia la derecha, con un pico cercano a cero, lo que indica que los usuarios de Surf y Ultimate no utilizaban mensajes con frecuencia. Esto parece lógico dado que, en nuestra era actual, más personas usan aplicaciones de mensajería como WhatsApp para interactuar con otros que la mensajería tradicional."
   ]
  },
  {
   "cell_type": "code",
   "execution_count": 69,
   "metadata": {},
   "outputs": [
    {
     "data": {
      "image/png": "[encoded data removed]",
      "text/plain": [
       "<Figure size 640x480 with 1 Axes>"
      ]
     },
     "metadata": {},
     "output_type": "display_data"
    }
   ],
   "source": [
    "d= sns.barplot(data=df, x=df.index.get_level_values(1), y=\"messages\", hue=\"plan\", alpha=0.8)\n",
    "_ = d.set_title('Mensajes promedio de Surf vs Ultimate a lo largo del tiempo')\n",
    "_ = d.set(xlabel='Mes',ylabel='Recuento promedio de mensajes')\n"
   ]
  },
  {
   "cell_type": "markdown",
   "metadata": {},
   "source": [
    "## Comportamiento del consumidor en el uso de internet"
   ]
  },
  {
   "cell_type": "code",
   "execution_count": 70,
   "metadata": {},
   "outputs": [
    {
     "name": "stdout",
     "output_type": "stream",
     "text": [
      "La cantidad promedio de datos utilizados por el suscriptor de Surf son 16.78 gigabytes\n",
      "con una varianza de 56.91\n",
      "y desviación estándar de 7.54 gigabytes\n",
      "\n",
      "Mientras que para el suscriptor Ultimate, el promedio es 17.37 gigabytes\n",
      "con una varianza de 57.38\n",
      "y desviación estándar de 7.57 gigabytes\n"
     ]
    }
   ],
   "source": [
    "surf_data = df[df['plan']=='surf']['data']\n",
    "ultimate_data = df[df['plan']=='ultimate']['data']\n",
    "\n",
    "print('La cantidad promedio de datos utilizados por el suscriptor de Surf son', np.mean(surf_data).round(2), 'gigabytes')\n",
    "print('con una varianza de', np.var(surf_data).round(2))\n",
    "print('y desviación estándar de', np.std(surf_data).round(2), 'gigabytes')\n",
    "print()\n",
    "print('Mientras que para el suscriptor Ultimate, el promedio es', np.mean(ultimate_data).round(2), 'gigabytes')\n",
    "print('con una varianza de', np.var(ultimate_data).round(2))\n",
    "print('y desviación estándar de', np.std(ultimate_data).round(2), 'gigabytes')"
   ]
  },
  {
   "cell_type": "code",
   "execution_count": 71,
   "metadata": {},
   "outputs": [
    {
     "data": {
      "image/png": "[encoded data removed]",
      "text/plain": [
       "<Figure size 640x480 with 1 Axes>"
      ]
     },
     "metadata": {},
     "output_type": "display_data"
    }
   ],
   "source": [
    "e= sns.histplot(data=df, x=\"data\", hue=\"plan\")\n",
    "_ = e.set_title('Histograma del uso de Internet de los usuarios de Surf vs Ultimate')\n",
    "_ = e.set(xlabel='Datos utilizados (gigabytes)', ylabel='Conteo de usuarios')\n"
   ]
  },
  {
   "cell_type": "markdown",
   "metadata": {},
   "source": [
    "Tanto Ultimate como Surf alcanzaron un máximo de entre 17 y 20 gigabytes.\n"
   ]
  },
  {
   "cell_type": "code",
   "execution_count": 72,
   "metadata": {},
   "outputs": [
    {
     "data": {
      "image/png": "[encoded data removed]",
      "text/plain": [
       "<Figure size 640x480 with 1 Axes>"
      ]
     },
     "metadata": {},
     "output_type": "display_data"
    }
   ],
   "source": [
    "f= sns.barplot(data=df, x=df.index.get_level_values(1), y=\"data\", hue=\"plan\", alpha=0.8)\n",
    "_ = f.set_title('Datos promedio de Surf vs Ultimate a lo largo del tiempo')\n",
    "_ = f.set(xlabel='Mes',ylabel='Promedio de datos utilizados (Gigabytes)')"
   ]
  },
  {
   "cell_type": "markdown",
   "metadata": {},
   "source": [
    "## Ingreso mensual"
   ]
  },
  {
   "cell_type": "code",
   "execution_count": 73,
   "metadata": {},
   "outputs": [
    {
     "name": "stdout",
     "output_type": "stream",
     "text": [
      "el número promedio de facturas que debe pagar el suscriptor de Surf son 60.13 USD\n",
      "con una varianza de 2863.96\n",
      "y desviación estándar de 53.52 USD\n",
      "\n",
      "Mientras que para el suscriptor Ultimate, el promedio es 72.28 USD\n",
      "con una varianza de 128.69\n",
      "y desviación estándar de 11.34 USD\n"
     ]
    }
   ],
   "source": [
    "surf_income = df[df['plan']=='surf']['monthly_income']\n",
    "ultimate_income = df[df['plan']=='ultimate']['monthly_income']\n",
    "\n",
    "print('el número promedio de facturas que debe pagar el suscriptor de Surf son', np.mean(surf_income).round(2), 'USD')\n",
    "print('con una varianza de', np.var(surf_income).round(2))\n",
    "print('y desviación estándar de', np.std(surf_income).round(2), 'USD')\n",
    "print()\n",
    "print('Mientras que para el suscriptor Ultimate, el promedio es', np.mean(ultimate_income).round(2), 'USD')\n",
    "print('con una varianza de', np.var(ultimate_income).round(2))\n",
    "print('y desviación estándar de', np.std(ultimate_income).round(2), 'USD')"
   ]
  },
  {
   "cell_type": "code",
   "execution_count": 74,
   "metadata": {},
   "outputs": [
    {
     "data": {
      "image/png": "[encoded data removed]",
      "text/plain": [
       "<Figure size 640x480 with 1 Axes>"
      ]
     },
     "metadata": {},
     "output_type": "display_data"
    }
   ],
   "source": [
    "g= sns.histplot(data=df, x=\"monthly_income\", hue=\"plan\",binrange=(20,200))\n",
    "_ = g.set_title(\"Histograma de facturas de usuarios de Surf vs Ultimate\")\n",
    "_ = g.set(xlabel='Facturas de usuario (USD)', ylabel='Conteo de usuarios')"
   ]
  },
  {
   "cell_type": "markdown",
   "metadata": {},
   "source": [
    "Los ingresos de cada plan alcanzaron su punto máximo en la tarifa mensual original, y muchos usuarios de Surf pagaron más debido a su propensión a exceder el límite mensual."
   ]
  },
  {
   "cell_type": "code",
   "execution_count": 75,
   "metadata": {},
   "outputs": [
    {
     "data": {
      "image/png": "[encoded data removed]",
      "text/plain": [
       "<Figure size 640x480 with 1 Axes>"
      ]
     },
     "metadata": {},
     "output_type": "display_data"
    }
   ],
   "source": [
    "h= sns.barplot(data=df, x=df.index.get_level_values(1), y=\"monthly_income\", hue=\"plan\", alpha=0.8)\n",
    "_ = h.set_title('Facturas promedio de Surf vs Ultimate a lo largo del tiempo')\n",
    "_ = h.set(xlabel='Mes',ylabel='Facturas promedio (USD)')"
   ]
  },
  {
   "cell_type": "markdown",
   "metadata": {},
   "source": [
    "La factura promedio de cada paquete al comienzo del año es igual a la tarifa mensual original. A medida que avanza el año, el costo promedio del usuario de Surf aumenta para igualar el de los usuarios de Ultimate al final del año."
   ]
  },
  {
   "cell_type": "markdown",
   "metadata": {},
   "source": [
    "# Paso 4. Prueba las hipótesis\n",
    "\n",
    "Principalmente para el análisis me dieron dos hipótesis diferentes para ser respondidas:\n",
    " \n",
    "* El ingreso promedio de los usuarios de los planes de teléfono Ultimate y Surf es diferente.\n",
    "* Los ingresos promedio de los usuarios en la región NY-NJ son diferentes de los ingresos de los usuarios de otras regiones.\n",
    "\n",
    "En la siguiente sección voy a responder a estos dos\n",
    "\n",
    "## Hipótesis 1\n",
    "\n",
    "El ingreso promedio de los usuarios de los planes de teléfono Ultimate y Surf es diferente.\n",
    "\n",
    "* H0 (hipótesis nula): el ingreso promedio de los usuarios de los planes de teléfono Ultimate y Surf es igual\n",
    "* H1 (hipótesis alternativa): el ingreso promedio de los usuarios de los planes de teléfono Ultimate y Surf no es igual\n",
    "\n",
    "Según la sección anterior, la variación de los ingresos mensuales entre Surf y Ultimate es diferente, por lo tanto, el parámetro `equal_var` en el siguiente código se establece en False.\n",
    " \n",
    "El umbral (alfa) se establece en 5\\% (2,5\\% en cada lado) ya que es una de las medidas comunes de significancia estadística."
   ]
  },
  {
   "cell_type": "code",
   "execution_count": 77,
   "metadata": {},
   "outputs": [],
   "source": [
    "alpha = 0.05\n",
    "results_1 = stats.ttest_ind(surf_income, ultimate_income, equal_var=False)"
   ]
  },
  {
   "cell_type": "code",
   "execution_count": 78,
   "metadata": {},
   "outputs": [
    {
     "name": "stdout",
     "output_type": "stream",
     "text": [
      "valor p: 3.3636448688101445e-17\n"
     ]
    }
   ],
   "source": [
    "# imprimir el valor p\n",
    "print('valor p:',results_1.pvalue) "
   ]
  },
  {
   "cell_type": "code",
   "execution_count": 79,
   "metadata": {},
   "outputs": [
    {
     "name": "stdout",
     "output_type": "stream",
     "text": [
      "Rechazamos la hipótesis nula\n"
     ]
    }
   ],
   "source": [
    "# comparar el valor p con el nivel de significancia\n",
    "if results_1.pvalue < alpha:\n",
    "    print(\"Rechazamos la hipótesis nula\")\n",
    "else:\n",
    "    print(\"No podemos rechazar la hipótesis nula\")"
   ]
  },
  {
   "cell_type": "markdown",
   "metadata": {},
   "source": [
    "### Conclusión Hipótesis 1\n",
    "En esta prueba se rechaza la hipótesis nula, lo que implica que el ingreso promedio de los usuarios de los planes de telefonía Ultimate y Surf no es igual.\n",
    "\n",
    "## Hipótesis 2\n",
    "Los ingresos promedio de los usuarios en la región NY-NJ son diferentes de los ingresos de los usuarios de otras regiones.\n",
    " \n",
    "* H0 (hipótesis nula): los ingresos promedio de los usuarios en la región NY-NJ son iguales a los ingresos de los usuarios de otras regiones\n",
    "* H1 (hipótesis alternativa): los ingresos promedio de los usuarios en la región NY-NJ no son iguales a los ingresos de los usuarios de otras regiones\n",
    " \n",
    "El umbral (alfa) se establece en 5\\% (2,5\\% en cada lado) ya que es una de las medidas comunes de significancia estadística.\n"
   ]
  },
  {
   "cell_type": "code",
   "execution_count": 80,
   "metadata": {},
   "outputs": [
    {
     "name": "stdout",
     "output_type": "stream",
     "text": [
      "Variación de ingresos de los usuarios de Nueva York y Nueva Jersey: 3135.21\n",
      "Variación de ingresos de otros usuarios estatales: 2047.41\n"
     ]
    }
   ],
   "source": [
    "NY_NJ_income = df[(df['state']=='NY') | (df['state']=='NJ')]['monthly_income']\n",
    "Other_state_income = df[(df['state']!='NY') & (df['state']!='NJ')]['monthly_income']\n",
    "\n",
    "print('Variación de ingresos de los usuarios de Nueva York y Nueva Jersey:', np.var(NY_NJ_income).round(2))\n",
    "print('Variación de ingresos de otros usuarios estatales:', np.var(Other_state_income).round(2))"
   ]
  },
  {
   "cell_type": "markdown",
   "metadata": {},
   "source": [
    "La variación de los ingresos mensuales entre los usuarios de Nueva York y Nueva Jersey y los usuarios de otros estados es diferente, por lo tanto, el parámetro `equal_var` en el siguiente código se establece en False.\n"
   ]
  },
  {
   "cell_type": "code",
   "execution_count": 81,
   "metadata": {},
   "outputs": [],
   "source": [
    "alpha = 0.05\n",
    "results_2 = stats.ttest_ind(NY_NJ_income, Other_state_income, equal_var=False)"
   ]
  },
  {
   "cell_type": "code",
   "execution_count": 82,
   "metadata": {},
   "outputs": [
    {
     "name": "stdout",
     "output_type": "stream",
     "text": [
      "valor p: 0.32\n"
     ]
    }
   ],
   "source": [
    "# imprimir el valor p\n",
    "print('valor p:',results_2.pvalue.round(2)) "
   ]
  },
  {
   "cell_type": "code",
   "execution_count": 83,
   "metadata": {},
   "outputs": [
    {
     "name": "stdout",
     "output_type": "stream",
     "text": [
      "No podemos rechazar la hipótesis nula\n"
     ]
    }
   ],
   "source": [
    "# comparar el valor p con el nivel de significancia\n",
    "if results_2.pvalue < alpha:\n",
    "    print(\"Rechazamos la hipótesis nula\")\n",
    "else:\n",
    "    print(\"No podemos rechazar la hipótesis nula\")"
   ]
  },
  {
   "cell_type": "markdown",
   "metadata": {},
   "source": [
    "### Conclusión hipótesis 2\n",
    "La hipótesis nula no se puede rechazar en esta prueba, lo que implica que los ingresos promedio de los usuarios en la región NY-NJ son iguales a los ingresos de los usuarios de otras regiones.\n",
    "\n",
    "Conclusión general\n",
    " \n",
    "***\n",
    "**Descripción general**\n",
    "***\n",
    "\n",
    "Para realizar el análisis y probar las dos hipótesis sobre Megalines dos planes prepago, originalmente me dieron 5 DataFrames diferentes:\n",
    " \n",
    "* **df_calls** constaba de **137.735 filas y 4 columnas**.\n",
    "* **df_internet** constaba de **104.825 filas y 4 columnas**.\n",
    "* **df_messages** constaba de **76.051 filas y 3 columnas**.\n",
    "* **df_plans** constaba de **2 filas y 8 columnas.**\n",
    "* **df_users** constaba de **500 filas y 8 columnas.**\n",
    " \n",
    "Lo primero que tuve que hacer fue limpiar y alinear los DataFrames para poder comenzar el trabajo de combinarlos en **un DataFrame** que me permitiera realizar mi análisis y responder a las hipótesis planteadas por Megaline.\n",
    " \n",
    "***\n",
    "**¿Cuáles fueron los mayores problemas con los DataFrames?**\n",
    "***\n",
    " \n",
    "Los DataFrames como tales estaban bastante limpios. No presentaron ningún problema en términos de **valores NaN**, **valores atípicos**, **nombres de columnas impares** o **duplicados**\n",
    " \n",
    "Sin embargo, un error en varios de los DataFrames fue **Dtypes incorrectos** en las columnas de fecha y tuve que corregirlos. Este sería un problema que podría notificar al departamento de marketing para asegurar que estén más atentos en el futuro.\n",
    " \n",
    "Otros factores para corregir involucraron principalmente la limpieza de los DataFrames para prepararlos y hacerlos más adecuados para la fusión, incluido **redondear valores al número entero más cercano** y **agregar y agrupar differente datos**.\n",
    " \n",
    "***\n",
    "**El siguiente paso fue analizar los datos**\n",
    "***\n",
    " \n",
    "El objetivo principal en esta parte del análisis fue analizar y describir el comportamiento de los clientes.\n",
    "Aquí describí el comportamiento del consumo de llamadas, mensajes y uso de internet y además se describieron los ingresos mensuales. Por último, realicé un breve análisis de correlación, para encontrar factores de correlación para el uso de los planes prepago.\n",
    " \n",
    " ***\n",
    "**Conclusión general**\n",
    "***\n",
    " \n",
    "El objetivo de este proyecto es analizar el comportamiento del cliente y determinar **qué plan prepago genera más ingresos**. Los resultados del análisis son:\n",
    " \n",
    "La mayoría de los usuarios de Surf **tienden a superar su límite de uso mensual.**\n",
    "No obstante, **el ingreso promedio generado por los usuarios de Ultimate es más alto y más consistente cada mes.**\n",
    " \n",
    "Este proyecto también prueba dos hipótesis que dieron como resultado las siguientes afirmaciones:\n",
    " \n",
    "El ingreso promedio de los usuarios de los planes de telefonía Ultimate y Surf **no es igual**\n",
    "los ingresos promedio de los usuarios en la región NY-NJ **es igual a los ingresos de los usuarios de otras regiones**"
   ]
  }
 ],
 "metadata": {
  "kernelspec": {
   "display_name": "Python 3",
   "language": "python",
   "name": "python3"
  },
  "language_info": {
   "codemirror_mode": {
    "name": "ipython",
    "version": 3
   },
   "file_extension": ".py",
   "mimetype": "text/x-python",
   "name": "python",
   "nbconvert_exporter": "python",
   "pygments_lexer": "ipython3",
   "version": "3.12.0"
  }
 },
 "nbformat": 4,
 "nbformat_minor": 2
}
